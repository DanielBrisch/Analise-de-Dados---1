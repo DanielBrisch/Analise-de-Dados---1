{
  "nbformat": 4,
  "nbformat_minor": 0,
  "metadata": {
    "colab": {
      "provenance": [],
      "include_colab_link": true
    },
    "kernelspec": {
      "name": "python3",
      "display_name": "Python 3"
    },
    "language_info": {
      "name": "python"
    }
  },
  "cells": [
    {
      "cell_type": "markdown",
      "metadata": {
        "id": "view-in-github",
        "colab_type": "text"
      },
      "source": [
        "<a href=\"https://colab.research.google.com/github/DanielBrisch/Analise-de-Dados---1/blob/main/mercado.ipynb\" target=\"_parent\"><img src=\"https://colab.research.google.com/assets/colab-badge.svg\" alt=\"Open In Colab\"/></a>"
      ]
    },
    {
      "cell_type": "code",
      "execution_count": 2,
      "metadata": {
        "id": "sGa1nAgcKvSX"
      },
      "outputs": [],
      "source": [
        "import gdown"
      ]
    },
    {
      "cell_type": "code",
      "source": [
        "!gdown 1exmP2er4MvJ4yyaop3_yGhCYYmGb7s6A"
      ],
      "metadata": {
        "colab": {
          "base_uri": "https://localhost:8080/"
        },
        "id": "3kEtqp_OLD3y",
        "outputId": "796e07c0-49f4-4125-de38-75ec411b6186"
      },
      "execution_count": 3,
      "outputs": [
        {
          "output_type": "stream",
          "name": "stdout",
          "text": [
            "Downloading...\n",
            "From: https://drive.google.com/uc?id=1exmP2er4MvJ4yyaop3_yGhCYYmGb7s6A\n",
            "To: /content/SuperMercados.xlsx\n",
            "\r  0% 0.00/97.5k [00:00<?, ?B/s]\r100% 97.5k/97.5k [00:00<00:00, 62.8MB/s]\n"
          ]
        }
      ]
    },
    {
      "cell_type": "code",
      "source": [
        "import numpy as np\n",
        "import pandas as pd\n",
        "import matplotlib.pyplot as plt\n",
        "import seaborn as sns"
      ],
      "metadata": {
        "id": "7JQmQmIqLodi"
      },
      "execution_count": 4,
      "outputs": []
    },
    {
      "cell_type": "code",
      "source": [
        "df = pd.read_excel('SuperMercados.xlsx')"
      ],
      "metadata": {
        "id": "v6XbrmukMITw"
      },
      "execution_count": 5,
      "outputs": []
    },
    {
      "cell_type": "code",
      "source": [
        "df.head()"
      ],
      "metadata": {
        "colab": {
          "base_uri": "https://localhost:8080/",
          "height": 478
        },
        "id": "C6FNN_jRMUDb",
        "outputId": "986fd046-ae9f-45dc-f177-983feb111e6f"
      },
      "execution_count": 6,
      "outputs": [
        {
          "output_type": "execute_result",
          "data": {
            "text/plain": [
              "   Unnamed: 0 ID da fatura Filial Tipo de Cliente Gênero  \\\n",
              "0           0  750-67-8428      A          Member      F   \n",
              "1           1  226-31-3081      C          Normal      F   \n",
              "2           2  631-41-3108      A          Normal      M   \n",
              "3           3  123-19-1176      A          Member      M   \n",
              "4           4  373-73-7910      A          Normal      M   \n",
              "\n",
              "         Linha de produto  Preço unitário  Quantidade    Total       Data  \\\n",
              "0          Saúde e beleza         1120.35           7  7842.45   1/5/2019   \n",
              "1  Acessórios eletrônicos          229.20           5  1146.00   3/8/2019   \n",
              "2   Casa e estilo de vida          694.95           7  4864.65   3/3/2019   \n",
              "3          Saúde e beleza          873.30           8  6986.40  1/27/2019   \n",
              "4      Esportes e viagens         1294.65           7  9062.55   2/8/2019   \n",
              "\n",
              "      Tempo          Pagamento       COGS  porcentagem de margem bruta  \\\n",
              "0  13:08:00                PIX  4705.4700                   4761904762   \n",
              "1  10:29:00           Dinheiro  1031.4000                   4761904762   \n",
              "2  13:23:00  Cartão de Crédito  3405.2550                   4761904762   \n",
              "3  20:33:00                PIX  4191.8400                   4761904762   \n",
              "4  10:37:00                PIX  6796.9125                   4761904762   \n",
              "\n",
              "   renda bruta  Avaliação  \n",
              "0       261415         91  \n",
              "1          382         96  \n",
              "2       162155         74  \n",
              "3        23288         84  \n",
              "4       302085         53  "
            ],
            "text/html": [
              "\n",
              "  <div id=\"df-f8b9dba4-d5e5-46c8-91fb-8f088b23e280\">\n",
              "    <div class=\"colab-df-container\">\n",
              "      <div>\n",
              "<style scoped>\n",
              "    .dataframe tbody tr th:only-of-type {\n",
              "        vertical-align: middle;\n",
              "    }\n",
              "\n",
              "    .dataframe tbody tr th {\n",
              "        vertical-align: top;\n",
              "    }\n",
              "\n",
              "    .dataframe thead th {\n",
              "        text-align: right;\n",
              "    }\n",
              "</style>\n",
              "<table border=\"1\" class=\"dataframe\">\n",
              "  <thead>\n",
              "    <tr style=\"text-align: right;\">\n",
              "      <th></th>\n",
              "      <th>Unnamed: 0</th>\n",
              "      <th>ID da fatura</th>\n",
              "      <th>Filial</th>\n",
              "      <th>Tipo de Cliente</th>\n",
              "      <th>Gênero</th>\n",
              "      <th>Linha de produto</th>\n",
              "      <th>Preço unitário</th>\n",
              "      <th>Quantidade</th>\n",
              "      <th>Total</th>\n",
              "      <th>Data</th>\n",
              "      <th>Tempo</th>\n",
              "      <th>Pagamento</th>\n",
              "      <th>COGS</th>\n",
              "      <th>porcentagem de margem bruta</th>\n",
              "      <th>renda bruta</th>\n",
              "      <th>Avaliação</th>\n",
              "    </tr>\n",
              "  </thead>\n",
              "  <tbody>\n",
              "    <tr>\n",
              "      <th>0</th>\n",
              "      <td>0</td>\n",
              "      <td>750-67-8428</td>\n",
              "      <td>A</td>\n",
              "      <td>Member</td>\n",
              "      <td>F</td>\n",
              "      <td>Saúde e beleza</td>\n",
              "      <td>1120.35</td>\n",
              "      <td>7</td>\n",
              "      <td>7842.45</td>\n",
              "      <td>1/5/2019</td>\n",
              "      <td>13:08:00</td>\n",
              "      <td>PIX</td>\n",
              "      <td>4705.4700</td>\n",
              "      <td>4761904762</td>\n",
              "      <td>261415</td>\n",
              "      <td>91</td>\n",
              "    </tr>\n",
              "    <tr>\n",
              "      <th>1</th>\n",
              "      <td>1</td>\n",
              "      <td>226-31-3081</td>\n",
              "      <td>C</td>\n",
              "      <td>Normal</td>\n",
              "      <td>F</td>\n",
              "      <td>Acessórios eletrônicos</td>\n",
              "      <td>229.20</td>\n",
              "      <td>5</td>\n",
              "      <td>1146.00</td>\n",
              "      <td>3/8/2019</td>\n",
              "      <td>10:29:00</td>\n",
              "      <td>Dinheiro</td>\n",
              "      <td>1031.4000</td>\n",
              "      <td>4761904762</td>\n",
              "      <td>382</td>\n",
              "      <td>96</td>\n",
              "    </tr>\n",
              "    <tr>\n",
              "      <th>2</th>\n",
              "      <td>2</td>\n",
              "      <td>631-41-3108</td>\n",
              "      <td>A</td>\n",
              "      <td>Normal</td>\n",
              "      <td>M</td>\n",
              "      <td>Casa e estilo de vida</td>\n",
              "      <td>694.95</td>\n",
              "      <td>7</td>\n",
              "      <td>4864.65</td>\n",
              "      <td>3/3/2019</td>\n",
              "      <td>13:23:00</td>\n",
              "      <td>Cartão de Crédito</td>\n",
              "      <td>3405.2550</td>\n",
              "      <td>4761904762</td>\n",
              "      <td>162155</td>\n",
              "      <td>74</td>\n",
              "    </tr>\n",
              "    <tr>\n",
              "      <th>3</th>\n",
              "      <td>3</td>\n",
              "      <td>123-19-1176</td>\n",
              "      <td>A</td>\n",
              "      <td>Member</td>\n",
              "      <td>M</td>\n",
              "      <td>Saúde e beleza</td>\n",
              "      <td>873.30</td>\n",
              "      <td>8</td>\n",
              "      <td>6986.40</td>\n",
              "      <td>1/27/2019</td>\n",
              "      <td>20:33:00</td>\n",
              "      <td>PIX</td>\n",
              "      <td>4191.8400</td>\n",
              "      <td>4761904762</td>\n",
              "      <td>23288</td>\n",
              "      <td>84</td>\n",
              "    </tr>\n",
              "    <tr>\n",
              "      <th>4</th>\n",
              "      <td>4</td>\n",
              "      <td>373-73-7910</td>\n",
              "      <td>A</td>\n",
              "      <td>Normal</td>\n",
              "      <td>M</td>\n",
              "      <td>Esportes e viagens</td>\n",
              "      <td>1294.65</td>\n",
              "      <td>7</td>\n",
              "      <td>9062.55</td>\n",
              "      <td>2/8/2019</td>\n",
              "      <td>10:37:00</td>\n",
              "      <td>PIX</td>\n",
              "      <td>6796.9125</td>\n",
              "      <td>4761904762</td>\n",
              "      <td>302085</td>\n",
              "      <td>53</td>\n",
              "    </tr>\n",
              "  </tbody>\n",
              "</table>\n",
              "</div>\n",
              "      <button class=\"colab-df-convert\" onclick=\"convertToInteractive('df-f8b9dba4-d5e5-46c8-91fb-8f088b23e280')\"\n",
              "              title=\"Convert this dataframe to an interactive table.\"\n",
              "              style=\"display:none;\">\n",
              "        \n",
              "  <svg xmlns=\"http://www.w3.org/2000/svg\" height=\"24px\"viewBox=\"0 0 24 24\"\n",
              "       width=\"24px\">\n",
              "    <path d=\"M0 0h24v24H0V0z\" fill=\"none\"/>\n",
              "    <path d=\"M18.56 5.44l.94 2.06.94-2.06 2.06-.94-2.06-.94-.94-2.06-.94 2.06-2.06.94zm-11 1L8.5 8.5l.94-2.06 2.06-.94-2.06-.94L8.5 2.5l-.94 2.06-2.06.94zm10 10l.94 2.06.94-2.06 2.06-.94-2.06-.94-.94-2.06-.94 2.06-2.06.94z\"/><path d=\"M17.41 7.96l-1.37-1.37c-.4-.4-.92-.59-1.43-.59-.52 0-1.04.2-1.43.59L10.3 9.45l-7.72 7.72c-.78.78-.78 2.05 0 2.83L4 21.41c.39.39.9.59 1.41.59.51 0 1.02-.2 1.41-.59l7.78-7.78 2.81-2.81c.8-.78.8-2.07 0-2.86zM5.41 20L4 18.59l7.72-7.72 1.47 1.35L5.41 20z\"/>\n",
              "  </svg>\n",
              "      </button>\n",
              "      \n",
              "  <style>\n",
              "    .colab-df-container {\n",
              "      display:flex;\n",
              "      flex-wrap:wrap;\n",
              "      gap: 12px;\n",
              "    }\n",
              "\n",
              "    .colab-df-convert {\n",
              "      background-color: #E8F0FE;\n",
              "      border: none;\n",
              "      border-radius: 50%;\n",
              "      cursor: pointer;\n",
              "      display: none;\n",
              "      fill: #1967D2;\n",
              "      height: 32px;\n",
              "      padding: 0 0 0 0;\n",
              "      width: 32px;\n",
              "    }\n",
              "\n",
              "    .colab-df-convert:hover {\n",
              "      background-color: #E2EBFA;\n",
              "      box-shadow: 0px 1px 2px rgba(60, 64, 67, 0.3), 0px 1px 3px 1px rgba(60, 64, 67, 0.15);\n",
              "      fill: #174EA6;\n",
              "    }\n",
              "\n",
              "    [theme=dark] .colab-df-convert {\n",
              "      background-color: #3B4455;\n",
              "      fill: #D2E3FC;\n",
              "    }\n",
              "\n",
              "    [theme=dark] .colab-df-convert:hover {\n",
              "      background-color: #434B5C;\n",
              "      box-shadow: 0px 1px 3px 1px rgba(0, 0, 0, 0.15);\n",
              "      filter: drop-shadow(0px 1px 2px rgba(0, 0, 0, 0.3));\n",
              "      fill: #FFFFFF;\n",
              "    }\n",
              "  </style>\n",
              "\n",
              "      <script>\n",
              "        const buttonEl =\n",
              "          document.querySelector('#df-f8b9dba4-d5e5-46c8-91fb-8f088b23e280 button.colab-df-convert');\n",
              "        buttonEl.style.display =\n",
              "          google.colab.kernel.accessAllowed ? 'block' : 'none';\n",
              "\n",
              "        async function convertToInteractive(key) {\n",
              "          const element = document.querySelector('#df-f8b9dba4-d5e5-46c8-91fb-8f088b23e280');\n",
              "          const dataTable =\n",
              "            await google.colab.kernel.invokeFunction('convertToInteractive',\n",
              "                                                     [key], {});\n",
              "          if (!dataTable) return;\n",
              "\n",
              "          const docLinkHtml = 'Like what you see? Visit the ' +\n",
              "            '<a target=\"_blank\" href=https://colab.research.google.com/notebooks/data_table.ipynb>data table notebook</a>'\n",
              "            + ' to learn more about interactive tables.';\n",
              "          element.innerHTML = '';\n",
              "          dataTable['output_type'] = 'display_data';\n",
              "          await google.colab.output.renderOutput(dataTable, element);\n",
              "          const docLink = document.createElement('div');\n",
              "          docLink.innerHTML = docLinkHtml;\n",
              "          element.appendChild(docLink);\n",
              "        }\n",
              "      </script>\n",
              "    </div>\n",
              "  </div>\n",
              "  "
            ]
          },
          "metadata": {},
          "execution_count": 6
        }
      ]
    },
    {
      "cell_type": "code",
      "source": [
        "sns.heatmap(df.isnull(),\n",
        "            yticklabels = False,\n",
        "            cbar = False,\n",
        "            cmap = 'gnuplot')"
      ],
      "metadata": {
        "colab": {
          "base_uri": "https://localhost:8080/",
          "height": 429
        },
        "id": "vxqcW9DGMq0a",
        "outputId": "f8e4e86d-e274-4aaf-e717-f686e2df0a4f"
      },
      "execution_count": 7,
      "outputs": [
        {
          "output_type": "execute_result",
          "data": {
            "text/plain": [
              "<AxesSubplot:>"
            ]
          },
          "metadata": {},
          "execution_count": 7
        },
        {
          "output_type": "display_data",
          "data": {
            "text/plain": [
              "<Figure size 432x288 with 1 Axes>"
            ],
            "image/png": "[encoded data removed]"
          },
          "metadata": {
            "needs_background": "light"
          }
        }
      ]
    },
    {
      "cell_type": "code",
      "source": [
        "df"
      ],
      "metadata": {
        "colab": {
          "base_uri": "https://localhost:8080/",
          "height": 869
        },
        "id": "YeQhrYOAOd3l",
        "outputId": "5035da9e-f265-4187-8c81-1569637252c2"
      },
      "execution_count": 8,
      "outputs": [
        {
          "output_type": "execute_result",
          "data": {
            "text/plain": [
              "     Unnamed: 0 ID da fatura Filial Tipo de Cliente Gênero  \\\n",
              "0             0  750-67-8428      A          Member      F   \n",
              "1             1  226-31-3081      C          Normal      F   \n",
              "2             2  631-41-3108      A          Normal      M   \n",
              "3             3  123-19-1176      A          Member      M   \n",
              "4             4  373-73-7910      A          Normal      M   \n",
              "..          ...          ...    ...             ...    ...   \n",
              "995         995  233-67-5758      C          Normal      M   \n",
              "996         996  303-96-2227      B          Normal      F   \n",
              "997         997  727-02-1313      A          Member      M   \n",
              "998         998  347-56-2442      A          Normal      M   \n",
              "999         999  849-09-3807      A          Member      F   \n",
              "\n",
              "           Linha de produto  Preço unitário  Quantidade     Total       Data  \\\n",
              "0            Saúde e beleza         1120.35           7   7842.45   1/5/2019   \n",
              "1    Acessórios eletrônicos          229.20           5   1146.00   3/8/2019   \n",
              "2     Casa e estilo de vida          694.95           7   4864.65   3/3/2019   \n",
              "3            Saúde e beleza          873.30           8   6986.40  1/27/2019   \n",
              "4        Esportes e viagens         1294.65           7   9062.55   2/8/2019   \n",
              "..                      ...             ...         ...       ...        ...   \n",
              "995          Saúde e beleza          605.25           1    605.25  1/29/2019   \n",
              "996   Casa e estilo de vida         1460.70          10  14607.00   3/2/2019   \n",
              "997        Comida e bebidas          477.60           1    477.60   2/9/2019   \n",
              "998   Casa e estilo de vida          987.30           1    987.30  2/22/2019   \n",
              "999     Acessórios fashions         1325.10           7   9275.70  2/18/2019   \n",
              "\n",
              "        Tempo          Pagamento        COGS  porcentagem de margem bruta  \\\n",
              "0    13:08:00                PIX   4705.4700                   4761904762   \n",
              "1    10:29:00           Dinheiro   1031.4000                   4761904762   \n",
              "2    13:23:00  Cartão de Crédito   3405.2550                   4761904762   \n",
              "3    20:33:00                PIX   4191.8400                   4761904762   \n",
              "4    10:37:00                PIX   6796.9125                   4761904762   \n",
              "..        ...                ...         ...                          ...   \n",
              "995  13:46:00                PIX    363.1500                   4761904762   \n",
              "996  17:16:00                PIX  10224.9000                   4761904762   \n",
              "997  13:22:00           Dinheiro    405.9600                   4761904762   \n",
              "998  15:33:00           Dinheiro    691.1100                   4761904762   \n",
              "999  13:28:00           Dinheiro   6956.7750                   4761904762   \n",
              "\n",
              "     renda bruta  Avaliação  \n",
              "0         261415         91  \n",
              "1            382         96  \n",
              "2         162155         74  \n",
              "3          23288         84  \n",
              "4         302085         53  \n",
              "..           ...        ...  \n",
              "995        20175         62  \n",
              "996         4869         44  \n",
              "997         1592         77  \n",
              "998         3291         41  \n",
              "999        30919         66  \n",
              "\n",
              "[1000 rows x 16 columns]"
            ],
            "text/html": [
              "\n",
              "  <div id=\"df-2dc2940c-0b90-4fc5-83fa-02c0eddf9f54\">\n",
              "    <div class=\"colab-df-container\">\n",
              "      <div>\n",
              "<style scoped>\n",
              "    .dataframe tbody tr th:only-of-type {\n",
              "        vertical-align: middle;\n",
              "    }\n",
              "\n",
              "    .dataframe tbody tr th {\n",
              "        vertical-align: top;\n",
              "    }\n",
              "\n",
              "    .dataframe thead th {\n",
              "        text-align: right;\n",
              "    }\n",
              "</style>\n",
              "<table border=\"1\" class=\"dataframe\">\n",
              "  <thead>\n",
              "    <tr style=\"text-align: right;\">\n",
              "      <th></th>\n",
              "      <th>Unnamed: 0</th>\n",
              "      <th>ID da fatura</th>\n",
              "      <th>Filial</th>\n",
              "      <th>Tipo de Cliente</th>\n",
              "      <th>Gênero</th>\n",
              "      <th>Linha de produto</th>\n",
              "      <th>Preço unitário</th>\n",
              "      <th>Quantidade</th>\n",
              "      <th>Total</th>\n",
              "      <th>Data</th>\n",
              "      <th>Tempo</th>\n",
              "      <th>Pagamento</th>\n",
              "      <th>COGS</th>\n",
              "      <th>porcentagem de margem bruta</th>\n",
              "      <th>renda bruta</th>\n",
              "      <th>Avaliação</th>\n",
              "    </tr>\n",
              "  </thead>\n",
              "  <tbody>\n",
              "    <tr>\n",
              "      <th>0</th>\n",
              "      <td>0</td>\n",
              "      <td>750-67-8428</td>\n",
              "      <td>A</td>\n",
              "      <td>Member</td>\n",
              "      <td>F</td>\n",
              "      <td>Saúde e beleza</td>\n",
              "      <td>1120.35</td>\n",
              "      <td>7</td>\n",
              "      <td>7842.45</td>\n",
              "      <td>1/5/2019</td>\n",
              "      <td>13:08:00</td>\n",
              "      <td>PIX</td>\n",
              "      <td>4705.4700</td>\n",
              "      <td>4761904762</td>\n",
              "      <td>261415</td>\n",
              "      <td>91</td>\n",
              "    </tr>\n",
              "    <tr>\n",
              "      <th>1</th>\n",
              "      <td>1</td>\n",
              "      <td>226-31-3081</td>\n",
              "      <td>C</td>\n",
              "      <td>Normal</td>\n",
              "      <td>F</td>\n",
              "      <td>Acessórios eletrônicos</td>\n",
              "      <td>229.20</td>\n",
              "      <td>5</td>\n",
              "      <td>1146.00</td>\n",
              "      <td>3/8/2019</td>\n",
              "      <td>10:29:00</td>\n",
              "      <td>Dinheiro</td>\n",
              "      <td>1031.4000</td>\n",
              "      <td>4761904762</td>\n",
              "      <td>382</td>\n",
              "      <td>96</td>\n",
              "    </tr>\n",
              "    <tr>\n",
              "      <th>2</th>\n",
              "      <td>2</td>\n",
              "      <td>631-41-3108</td>\n",
              "      <td>A</td>\n",
              "      <td>Normal</td>\n",
              "      <td>M</td>\n",
              "      <td>Casa e estilo de vida</td>\n",
              "      <td>694.95</td>\n",
              "      <td>7</td>\n",
              "      <td>4864.65</td>\n",
              "      <td>3/3/2019</td>\n",
              "      <td>13:23:00</td>\n",
              "      <td>Cartão de Crédito</td>\n",
              "      <td>3405.2550</td>\n",
              "      <td>4761904762</td>\n",
              "      <td>162155</td>\n",
              "      <td>74</td>\n",
              "    </tr>\n",
              "    <tr>\n",
              "      <th>3</th>\n",
              "      <td>3</td>\n",
              "      <td>123-19-1176</td>\n",
              "      <td>A</td>\n",
              "      <td>Member</td>\n",
              "      <td>M</td>\n",
              "      <td>Saúde e beleza</td>\n",
              "      <td>873.30</td>\n",
              "      <td>8</td>\n",
              "      <td>6986.40</td>\n",
              "      <td>1/27/2019</td>\n",
              "      <td>20:33:00</td>\n",
              "      <td>PIX</td>\n",
              "      <td>4191.8400</td>\n",
              "      <td>4761904762</td>\n",
              "      <td>23288</td>\n",
              "      <td>84</td>\n",
              "    </tr>\n",
              "    <tr>\n",
              "      <th>4</th>\n",
              "      <td>4</td>\n",
              "      <td>373-73-7910</td>\n",
              "      <td>A</td>\n",
              "      <td>Normal</td>\n",
              "      <td>M</td>\n",
              "      <td>Esportes e viagens</td>\n",
              "      <td>1294.65</td>\n",
              "      <td>7</td>\n",
              "      <td>9062.55</td>\n",
              "      <td>2/8/2019</td>\n",
              "      <td>10:37:00</td>\n",
              "      <td>PIX</td>\n",
              "      <td>6796.9125</td>\n",
              "      <td>4761904762</td>\n",
              "      <td>302085</td>\n",
              "      <td>53</td>\n",
              "    </tr>\n",
              "    <tr>\n",
              "      <th>...</th>\n",
              "      <td>...</td>\n",
              "      <td>...</td>\n",
              "      <td>...</td>\n",
              "      <td>...</td>\n",
              "      <td>...</td>\n",
              "      <td>...</td>\n",
              "      <td>...</td>\n",
              "      <td>...</td>\n",
              "      <td>...</td>\n",
              "      <td>...</td>\n",
              "      <td>...</td>\n",
              "      <td>...</td>\n",
              "      <td>...</td>\n",
              "      <td>...</td>\n",
              "      <td>...</td>\n",
              "      <td>...</td>\n",
              "    </tr>\n",
              "    <tr>\n",
              "      <th>995</th>\n",
              "      <td>995</td>\n",
              "      <td>233-67-5758</td>\n",
              "      <td>C</td>\n",
              "      <td>Normal</td>\n",
              "      <td>M</td>\n",
              "      <td>Saúde e beleza</td>\n",
              "      <td>605.25</td>\n",
              "      <td>1</td>\n",
              "      <td>605.25</td>\n",
              "      <td>1/29/2019</td>\n",
              "      <td>13:46:00</td>\n",
              "      <td>PIX</td>\n",
              "      <td>363.1500</td>\n",
              "      <td>4761904762</td>\n",
              "      <td>20175</td>\n",
              "      <td>62</td>\n",
              "    </tr>\n",
              "    <tr>\n",
              "      <th>996</th>\n",
              "      <td>996</td>\n",
              "      <td>303-96-2227</td>\n",
              "      <td>B</td>\n",
              "      <td>Normal</td>\n",
              "      <td>F</td>\n",
              "      <td>Casa e estilo de vida</td>\n",
              "      <td>1460.70</td>\n",
              "      <td>10</td>\n",
              "      <td>14607.00</td>\n",
              "      <td>3/2/2019</td>\n",
              "      <td>17:16:00</td>\n",
              "      <td>PIX</td>\n",
              "      <td>10224.9000</td>\n",
              "      <td>4761904762</td>\n",
              "      <td>4869</td>\n",
              "      <td>44</td>\n",
              "    </tr>\n",
              "    <tr>\n",
              "      <th>997</th>\n",
              "      <td>997</td>\n",
              "      <td>727-02-1313</td>\n",
              "      <td>A</td>\n",
              "      <td>Member</td>\n",
              "      <td>M</td>\n",
              "      <td>Comida e bebidas</td>\n",
              "      <td>477.60</td>\n",
              "      <td>1</td>\n",
              "      <td>477.60</td>\n",
              "      <td>2/9/2019</td>\n",
              "      <td>13:22:00</td>\n",
              "      <td>Dinheiro</td>\n",
              "      <td>405.9600</td>\n",
              "      <td>4761904762</td>\n",
              "      <td>1592</td>\n",
              "      <td>77</td>\n",
              "    </tr>\n",
              "    <tr>\n",
              "      <th>998</th>\n",
              "      <td>998</td>\n",
              "      <td>347-56-2442</td>\n",
              "      <td>A</td>\n",
              "      <td>Normal</td>\n",
              "      <td>M</td>\n",
              "      <td>Casa e estilo de vida</td>\n",
              "      <td>987.30</td>\n",
              "      <td>1</td>\n",
              "      <td>987.30</td>\n",
              "      <td>2/22/2019</td>\n",
              "      <td>15:33:00</td>\n",
              "      <td>Dinheiro</td>\n",
              "      <td>691.1100</td>\n",
              "      <td>4761904762</td>\n",
              "      <td>3291</td>\n",
              "      <td>41</td>\n",
              "    </tr>\n",
              "    <tr>\n",
              "      <th>999</th>\n",
              "      <td>999</td>\n",
              "      <td>849-09-3807</td>\n",
              "      <td>A</td>\n",
              "      <td>Member</td>\n",
              "      <td>F</td>\n",
              "      <td>Acessórios fashions</td>\n",
              "      <td>1325.10</td>\n",
              "      <td>7</td>\n",
              "      <td>9275.70</td>\n",
              "      <td>2/18/2019</td>\n",
              "      <td>13:28:00</td>\n",
              "      <td>Dinheiro</td>\n",
              "      <td>6956.7750</td>\n",
              "      <td>4761904762</td>\n",
              "      <td>30919</td>\n",
              "      <td>66</td>\n",
              "    </tr>\n",
              "  </tbody>\n",
              "</table>\n",
              "<p>1000 rows × 16 columns</p>\n",
              "</div>\n",
              "      <button class=\"colab-df-convert\" onclick=\"convertToInteractive('df-2dc2940c-0b90-4fc5-83fa-02c0eddf9f54')\"\n",
              "              title=\"Convert this dataframe to an interactive table.\"\n",
              "              style=\"display:none;\">\n",
              "        \n",
              "  <svg xmlns=\"http://www.w3.org/2000/svg\" height=\"24px\"viewBox=\"0 0 24 24\"\n",
              "       width=\"24px\">\n",
              "    <path d=\"M0 0h24v24H0V0z\" fill=\"none\"/>\n",
              "    <path d=\"M18.56 5.44l.94 2.06.94-2.06 2.06-.94-2.06-.94-.94-2.06-.94 2.06-2.06.94zm-11 1L8.5 8.5l.94-2.06 2.06-.94-2.06-.94L8.5 2.5l-.94 2.06-2.06.94zm10 10l.94 2.06.94-2.06 2.06-.94-2.06-.94-.94-2.06-.94 2.06-2.06.94z\"/><path d=\"M17.41 7.96l-1.37-1.37c-.4-.4-.92-.59-1.43-.59-.52 0-1.04.2-1.43.59L10.3 9.45l-7.72 7.72c-.78.78-.78 2.05 0 2.83L4 21.41c.39.39.9.59 1.41.59.51 0 1.02-.2 1.41-.59l7.78-7.78 2.81-2.81c.8-.78.8-2.07 0-2.86zM5.41 20L4 18.59l7.72-7.72 1.47 1.35L5.41 20z\"/>\n",
              "  </svg>\n",
              "      </button>\n",
              "      \n",
              "  <style>\n",
              "    .colab-df-container {\n",
              "      display:flex;\n",
              "      flex-wrap:wrap;\n",
              "      gap: 12px;\n",
              "    }\n",
              "\n",
              "    .colab-df-convert {\n",
              "      background-color: #E8F0FE;\n",
              "      border: none;\n",
              "      border-radius: 50%;\n",
              "      cursor: pointer;\n",
              "      display: none;\n",
              "      fill: #1967D2;\n",
              "      height: 32px;\n",
              "      padding: 0 0 0 0;\n",
              "      width: 32px;\n",
              "    }\n",
              "\n",
              "    .colab-df-convert:hover {\n",
              "      background-color: #E2EBFA;\n",
              "      box-shadow: 0px 1px 2px rgba(60, 64, 67, 0.3), 0px 1px 3px 1px rgba(60, 64, 67, 0.15);\n",
              "      fill: #174EA6;\n",
              "    }\n",
              "\n",
              "    [theme=dark] .colab-df-convert {\n",
              "      background-color: #3B4455;\n",
              "      fill: #D2E3FC;\n",
              "    }\n",
              "\n",
              "    [theme=dark] .colab-df-convert:hover {\n",
              "      background-color: #434B5C;\n",
              "      box-shadow: 0px 1px 3px 1px rgba(0, 0, 0, 0.15);\n",
              "      filter: drop-shadow(0px 1px 2px rgba(0, 0, 0, 0.3));\n",
              "      fill: #FFFFFF;\n",
              "    }\n",
              "  </style>\n",
              "\n",
              "      <script>\n",
              "        const buttonEl =\n",
              "          document.querySelector('#df-2dc2940c-0b90-4fc5-83fa-02c0eddf9f54 button.colab-df-convert');\n",
              "        buttonEl.style.display =\n",
              "          google.colab.kernel.accessAllowed ? 'block' : 'none';\n",
              "\n",
              "        async function convertToInteractive(key) {\n",
              "          const element = document.querySelector('#df-2dc2940c-0b90-4fc5-83fa-02c0eddf9f54');\n",
              "          const dataTable =\n",
              "            await google.colab.kernel.invokeFunction('convertToInteractive',\n",
              "                                                     [key], {});\n",
              "          if (!dataTable) return;\n",
              "\n",
              "          const docLinkHtml = 'Like what you see? Visit the ' +\n",
              "            '<a target=\"_blank\" href=https://colab.research.google.com/notebooks/data_table.ipynb>data table notebook</a>'\n",
              "            + ' to learn more about interactive tables.';\n",
              "          element.innerHTML = '';\n",
              "          dataTable['output_type'] = 'display_data';\n",
              "          await google.colab.output.renderOutput(dataTable, element);\n",
              "          const docLink = document.createElement('div');\n",
              "          docLink.innerHTML = docLinkHtml;\n",
              "          element.appendChild(docLink);\n",
              "        }\n",
              "      </script>\n",
              "    </div>\n",
              "  </div>\n",
              "  "
            ]
          },
          "metadata": {},
          "execution_count": 8
        }
      ]
    },
    {
      "cell_type": "code",
      "source": [
        "df.drop(columns=['ID da fatura','renda bruta'], inplace = True)"
      ],
      "metadata": {
        "id": "f8l97OwVNh4E"
      },
      "execution_count": 9,
      "outputs": []
    },
    {
      "cell_type": "code",
      "source": [
        "df"
      ],
      "metadata": {
        "colab": {
          "base_uri": "https://localhost:8080/",
          "height": 728
        },
        "id": "RYCTHiYKQVQg",
        "outputId": "8c099c3a-2162-4e86-d515-261aef0f2e1d"
      },
      "execution_count": 10,
      "outputs": [
        {
          "output_type": "execute_result",
          "data": {
            "text/plain": [
              "     Unnamed: 0 Filial Tipo de Cliente Gênero        Linha de produto  \\\n",
              "0             0      A          Member      F          Saúde e beleza   \n",
              "1             1      C          Normal      F  Acessórios eletrônicos   \n",
              "2             2      A          Normal      M   Casa e estilo de vida   \n",
              "3             3      A          Member      M          Saúde e beleza   \n",
              "4             4      A          Normal      M      Esportes e viagens   \n",
              "..          ...    ...             ...    ...                     ...   \n",
              "995         995      C          Normal      M          Saúde e beleza   \n",
              "996         996      B          Normal      F   Casa e estilo de vida   \n",
              "997         997      A          Member      M        Comida e bebidas   \n",
              "998         998      A          Normal      M   Casa e estilo de vida   \n",
              "999         999      A          Member      F     Acessórios fashions   \n",
              "\n",
              "     Preço unitário  Quantidade     Total       Data     Tempo  \\\n",
              "0           1120.35           7   7842.45   1/5/2019  13:08:00   \n",
              "1            229.20           5   1146.00   3/8/2019  10:29:00   \n",
              "2            694.95           7   4864.65   3/3/2019  13:23:00   \n",
              "3            873.30           8   6986.40  1/27/2019  20:33:00   \n",
              "4           1294.65           7   9062.55   2/8/2019  10:37:00   \n",
              "..              ...         ...       ...        ...       ...   \n",
              "995          605.25           1    605.25  1/29/2019  13:46:00   \n",
              "996         1460.70          10  14607.00   3/2/2019  17:16:00   \n",
              "997          477.60           1    477.60   2/9/2019  13:22:00   \n",
              "998          987.30           1    987.30  2/22/2019  15:33:00   \n",
              "999         1325.10           7   9275.70  2/18/2019  13:28:00   \n",
              "\n",
              "             Pagamento        COGS  porcentagem de margem bruta  Avaliação  \n",
              "0                  PIX   4705.4700                   4761904762         91  \n",
              "1             Dinheiro   1031.4000                   4761904762         96  \n",
              "2    Cartão de Crédito   3405.2550                   4761904762         74  \n",
              "3                  PIX   4191.8400                   4761904762         84  \n",
              "4                  PIX   6796.9125                   4761904762         53  \n",
              "..                 ...         ...                          ...        ...  \n",
              "995                PIX    363.1500                   4761904762         62  \n",
              "996                PIX  10224.9000                   4761904762         44  \n",
              "997           Dinheiro    405.9600                   4761904762         77  \n",
              "998           Dinheiro    691.1100                   4761904762         41  \n",
              "999           Dinheiro   6956.7750                   4761904762         66  \n",
              "\n",
              "[1000 rows x 14 columns]"
            ],
            "text/html": [
              "\n",
              "  <div id=\"df-b0f44869-69a0-457c-a6d7-52ffd7912564\">\n",
              "    <div class=\"colab-df-container\">\n",
              "      <div>\n",
              "<style scoped>\n",
              "    .dataframe tbody tr th:only-of-type {\n",
              "        vertical-align: middle;\n",
              "    }\n",
              "\n",
              "    .dataframe tbody tr th {\n",
              "        vertical-align: top;\n",
              "    }\n",
              "\n",
              "    .dataframe thead th {\n",
              "        text-align: right;\n",
              "    }\n",
              "</style>\n",
              "<table border=\"1\" class=\"dataframe\">\n",
              "  <thead>\n",
              "    <tr style=\"text-align: right;\">\n",
              "      <th></th>\n",
              "      <th>Unnamed: 0</th>\n",
              "      <th>Filial</th>\n",
              "      <th>Tipo de Cliente</th>\n",
              "      <th>Gênero</th>\n",
              "      <th>Linha de produto</th>\n",
              "      <th>Preço unitário</th>\n",
              "      <th>Quantidade</th>\n",
              "      <th>Total</th>\n",
              "      <th>Data</th>\n",
              "      <th>Tempo</th>\n",
              "      <th>Pagamento</th>\n",
              "      <th>COGS</th>\n",
              "      <th>porcentagem de margem bruta</th>\n",
              "      <th>Avaliação</th>\n",
              "    </tr>\n",
              "  </thead>\n",
              "  <tbody>\n",
              "    <tr>\n",
              "      <th>0</th>\n",
              "      <td>0</td>\n",
              "      <td>A</td>\n",
              "      <td>Member</td>\n",
              "      <td>F</td>\n",
              "      <td>Saúde e beleza</td>\n",
              "      <td>1120.35</td>\n",
              "      <td>7</td>\n",
              "      <td>7842.45</td>\n",
              "      <td>1/5/2019</td>\n",
              "      <td>13:08:00</td>\n",
              "      <td>PIX</td>\n",
              "      <td>4705.4700</td>\n",
              "      <td>4761904762</td>\n",
              "      <td>91</td>\n",
              "    </tr>\n",
              "    <tr>\n",
              "      <th>1</th>\n",
              "      <td>1</td>\n",
              "      <td>C</td>\n",
              "      <td>Normal</td>\n",
              "      <td>F</td>\n",
              "      <td>Acessórios eletrônicos</td>\n",
              "      <td>229.20</td>\n",
              "      <td>5</td>\n",
              "      <td>1146.00</td>\n",
              "      <td>3/8/2019</td>\n",
              "      <td>10:29:00</td>\n",
              "      <td>Dinheiro</td>\n",
              "      <td>1031.4000</td>\n",
              "      <td>4761904762</td>\n",
              "      <td>96</td>\n",
              "    </tr>\n",
              "    <tr>\n",
              "      <th>2</th>\n",
              "      <td>2</td>\n",
              "      <td>A</td>\n",
              "      <td>Normal</td>\n",
              "      <td>M</td>\n",
              "      <td>Casa e estilo de vida</td>\n",
              "      <td>694.95</td>\n",
              "      <td>7</td>\n",
              "      <td>4864.65</td>\n",
              "      <td>3/3/2019</td>\n",
              "      <td>13:23:00</td>\n",
              "      <td>Cartão de Crédito</td>\n",
              "      <td>3405.2550</td>\n",
              "      <td>4761904762</td>\n",
              "      <td>74</td>\n",
              "    </tr>\n",
              "    <tr>\n",
              "      <th>3</th>\n",
              "      <td>3</td>\n",
              "      <td>A</td>\n",
              "      <td>Member</td>\n",
              "      <td>M</td>\n",
              "      <td>Saúde e beleza</td>\n",
              "      <td>873.30</td>\n",
              "      <td>8</td>\n",
              "      <td>6986.40</td>\n",
              "      <td>1/27/2019</td>\n",
              "      <td>20:33:00</td>\n",
              "      <td>PIX</td>\n",
              "      <td>4191.8400</td>\n",
              "      <td>4761904762</td>\n",
              "      <td>84</td>\n",
              "    </tr>\n",
              "    <tr>\n",
              "      <th>4</th>\n",
              "      <td>4</td>\n",
              "      <td>A</td>\n",
              "      <td>Normal</td>\n",
              "      <td>M</td>\n",
              "      <td>Esportes e viagens</td>\n",
              "      <td>1294.65</td>\n",
              "      <td>7</td>\n",
              "      <td>9062.55</td>\n",
              "      <td>2/8/2019</td>\n",
              "      <td>10:37:00</td>\n",
              "      <td>PIX</td>\n",
              "      <td>6796.9125</td>\n",
              "      <td>4761904762</td>\n",
              "      <td>53</td>\n",
              "    </tr>\n",
              "    <tr>\n",
              "      <th>...</th>\n",
              "      <td>...</td>\n",
              "      <td>...</td>\n",
              "      <td>...</td>\n",
              "      <td>...</td>\n",
              "      <td>...</td>\n",
              "      <td>...</td>\n",
              "      <td>...</td>\n",
              "      <td>...</td>\n",
              "      <td>...</td>\n",
              "      <td>...</td>\n",
              "      <td>...</td>\n",
              "      <td>...</td>\n",
              "      <td>...</td>\n",
              "      <td>...</td>\n",
              "    </tr>\n",
              "    <tr>\n",
              "      <th>995</th>\n",
              "      <td>995</td>\n",
              "      <td>C</td>\n",
              "      <td>Normal</td>\n",
              "      <td>M</td>\n",
              "      <td>Saúde e beleza</td>\n",
              "      <td>605.25</td>\n",
              "      <td>1</td>\n",
              "      <td>605.25</td>\n",
              "      <td>1/29/2019</td>\n",
              "      <td>13:46:00</td>\n",
              "      <td>PIX</td>\n",
              "      <td>363.1500</td>\n",
              "      <td>4761904762</td>\n",
              "      <td>62</td>\n",
              "    </tr>\n",
              "    <tr>\n",
              "      <th>996</th>\n",
              "      <td>996</td>\n",
              "      <td>B</td>\n",
              "      <td>Normal</td>\n",
              "      <td>F</td>\n",
              "      <td>Casa e estilo de vida</td>\n",
              "      <td>1460.70</td>\n",
              "      <td>10</td>\n",
              "      <td>14607.00</td>\n",
              "      <td>3/2/2019</td>\n",
              "      <td>17:16:00</td>\n",
              "      <td>PIX</td>\n",
              "      <td>10224.9000</td>\n",
              "      <td>4761904762</td>\n",
              "      <td>44</td>\n",
              "    </tr>\n",
              "    <tr>\n",
              "      <th>997</th>\n",
              "      <td>997</td>\n",
              "      <td>A</td>\n",
              "      <td>Member</td>\n",
              "      <td>M</td>\n",
              "      <td>Comida e bebidas</td>\n",
              "      <td>477.60</td>\n",
              "      <td>1</td>\n",
              "      <td>477.60</td>\n",
              "      <td>2/9/2019</td>\n",
              "      <td>13:22:00</td>\n",
              "      <td>Dinheiro</td>\n",
              "      <td>405.9600</td>\n",
              "      <td>4761904762</td>\n",
              "      <td>77</td>\n",
              "    </tr>\n",
              "    <tr>\n",
              "      <th>998</th>\n",
              "      <td>998</td>\n",
              "      <td>A</td>\n",
              "      <td>Normal</td>\n",
              "      <td>M</td>\n",
              "      <td>Casa e estilo de vida</td>\n",
              "      <td>987.30</td>\n",
              "      <td>1</td>\n",
              "      <td>987.30</td>\n",
              "      <td>2/22/2019</td>\n",
              "      <td>15:33:00</td>\n",
              "      <td>Dinheiro</td>\n",
              "      <td>691.1100</td>\n",
              "      <td>4761904762</td>\n",
              "      <td>41</td>\n",
              "    </tr>\n",
              "    <tr>\n",
              "      <th>999</th>\n",
              "      <td>999</td>\n",
              "      <td>A</td>\n",
              "      <td>Member</td>\n",
              "      <td>F</td>\n",
              "      <td>Acessórios fashions</td>\n",
              "      <td>1325.10</td>\n",
              "      <td>7</td>\n",
              "      <td>9275.70</td>\n",
              "      <td>2/18/2019</td>\n",
              "      <td>13:28:00</td>\n",
              "      <td>Dinheiro</td>\n",
              "      <td>6956.7750</td>\n",
              "      <td>4761904762</td>\n",
              "      <td>66</td>\n",
              "    </tr>\n",
              "  </tbody>\n",
              "</table>\n",
              "<p>1000 rows × 14 columns</p>\n",
              "</div>\n",
              "      <button class=\"colab-df-convert\" onclick=\"convertToInteractive('df-b0f44869-69a0-457c-a6d7-52ffd7912564')\"\n",
              "              title=\"Convert this dataframe to an interactive table.\"\n",
              "              style=\"display:none;\">\n",
              "        \n",
              "  <svg xmlns=\"http://www.w3.org/2000/svg\" height=\"24px\"viewBox=\"0 0 24 24\"\n",
              "       width=\"24px\">\n",
              "    <path d=\"M0 0h24v24H0V0z\" fill=\"none\"/>\n",
              "    <path d=\"M18.56 5.44l.94 2.06.94-2.06 2.06-.94-2.06-.94-.94-2.06-.94 2.06-2.06.94zm-11 1L8.5 8.5l.94-2.06 2.06-.94-2.06-.94L8.5 2.5l-.94 2.06-2.06.94zm10 10l.94 2.06.94-2.06 2.06-.94-2.06-.94-.94-2.06-.94 2.06-2.06.94z\"/><path d=\"M17.41 7.96l-1.37-1.37c-.4-.4-.92-.59-1.43-.59-.52 0-1.04.2-1.43.59L10.3 9.45l-7.72 7.72c-.78.78-.78 2.05 0 2.83L4 21.41c.39.39.9.59 1.41.59.51 0 1.02-.2 1.41-.59l7.78-7.78 2.81-2.81c.8-.78.8-2.07 0-2.86zM5.41 20L4 18.59l7.72-7.72 1.47 1.35L5.41 20z\"/>\n",
              "  </svg>\n",
              "      </button>\n",
              "      \n",
              "  <style>\n",
              "    .colab-df-container {\n",
              "      display:flex;\n",
              "      flex-wrap:wrap;\n",
              "      gap: 12px;\n",
              "    }\n",
              "\n",
              "    .colab-df-convert {\n",
              "      background-color: #E8F0FE;\n",
              "      border: none;\n",
              "      border-radius: 50%;\n",
              "      cursor: pointer;\n",
              "      display: none;\n",
              "      fill: #1967D2;\n",
              "      height: 32px;\n",
              "      padding: 0 0 0 0;\n",
              "      width: 32px;\n",
              "    }\n",
              "\n",
              "    .colab-df-convert:hover {\n",
              "      background-color: #E2EBFA;\n",
              "      box-shadow: 0px 1px 2px rgba(60, 64, 67, 0.3), 0px 1px 3px 1px rgba(60, 64, 67, 0.15);\n",
              "      fill: #174EA6;\n",
              "    }\n",
              "\n",
              "    [theme=dark] .colab-df-convert {\n",
              "      background-color: #3B4455;\n",
              "      fill: #D2E3FC;\n",
              "    }\n",
              "\n",
              "    [theme=dark] .colab-df-convert:hover {\n",
              "      background-color: #434B5C;\n",
              "      box-shadow: 0px 1px 3px 1px rgba(0, 0, 0, 0.15);\n",
              "      filter: drop-shadow(0px 1px 2px rgba(0, 0, 0, 0.3));\n",
              "      fill: #FFFFFF;\n",
              "    }\n",
              "  </style>\n",
              "\n",
              "      <script>\n",
              "        const buttonEl =\n",
              "          document.querySelector('#df-b0f44869-69a0-457c-a6d7-52ffd7912564 button.colab-df-convert');\n",
              "        buttonEl.style.display =\n",
              "          google.colab.kernel.accessAllowed ? 'block' : 'none';\n",
              "\n",
              "        async function convertToInteractive(key) {\n",
              "          const element = document.querySelector('#df-b0f44869-69a0-457c-a6d7-52ffd7912564');\n",
              "          const dataTable =\n",
              "            await google.colab.kernel.invokeFunction('convertToInteractive',\n",
              "                                                     [key], {});\n",
              "          if (!dataTable) return;\n",
              "\n",
              "          const docLinkHtml = 'Like what you see? Visit the ' +\n",
              "            '<a target=\"_blank\" href=https://colab.research.google.com/notebooks/data_table.ipynb>data table notebook</a>'\n",
              "            + ' to learn more about interactive tables.';\n",
              "          element.innerHTML = '';\n",
              "          dataTable['output_type'] = 'display_data';\n",
              "          await google.colab.output.renderOutput(dataTable, element);\n",
              "          const docLink = document.createElement('div');\n",
              "          docLink.innerHTML = docLinkHtml;\n",
              "          element.appendChild(docLink);\n",
              "        }\n",
              "      </script>\n",
              "    </div>\n",
              "  </div>\n",
              "  "
            ]
          },
          "metadata": {},
          "execution_count": 10
        }
      ]
    },
    {
      "cell_type": "code",
      "source": [
        "df.drop(columns=['porcentagem de margem bruta',], inplace = True)"
      ],
      "metadata": {
        "id": "J9kYlzZvQW59"
      },
      "execution_count": 11,
      "outputs": []
    },
    {
      "cell_type": "code",
      "source": [
        "df"
      ],
      "metadata": {
        "colab": {
          "base_uri": "https://localhost:8080/",
          "height": 606
        },
        "id": "cpUm4KguQwSP",
        "outputId": "4d042c68-8ade-4d18-f470-b40a016922b4"
      },
      "execution_count": 12,
      "outputs": [
        {
          "output_type": "execute_result",
          "data": {
            "text/plain": [
              "     Unnamed: 0 Filial Tipo de Cliente Gênero        Linha de produto  \\\n",
              "0             0      A          Member      F          Saúde e beleza   \n",
              "1             1      C          Normal      F  Acessórios eletrônicos   \n",
              "2             2      A          Normal      M   Casa e estilo de vida   \n",
              "3             3      A          Member      M          Saúde e beleza   \n",
              "4             4      A          Normal      M      Esportes e viagens   \n",
              "..          ...    ...             ...    ...                     ...   \n",
              "995         995      C          Normal      M          Saúde e beleza   \n",
              "996         996      B          Normal      F   Casa e estilo de vida   \n",
              "997         997      A          Member      M        Comida e bebidas   \n",
              "998         998      A          Normal      M   Casa e estilo de vida   \n",
              "999         999      A          Member      F     Acessórios fashions   \n",
              "\n",
              "     Preço unitário  Quantidade     Total       Data     Tempo  \\\n",
              "0           1120.35           7   7842.45   1/5/2019  13:08:00   \n",
              "1            229.20           5   1146.00   3/8/2019  10:29:00   \n",
              "2            694.95           7   4864.65   3/3/2019  13:23:00   \n",
              "3            873.30           8   6986.40  1/27/2019  20:33:00   \n",
              "4           1294.65           7   9062.55   2/8/2019  10:37:00   \n",
              "..              ...         ...       ...        ...       ...   \n",
              "995          605.25           1    605.25  1/29/2019  13:46:00   \n",
              "996         1460.70          10  14607.00   3/2/2019  17:16:00   \n",
              "997          477.60           1    477.60   2/9/2019  13:22:00   \n",
              "998          987.30           1    987.30  2/22/2019  15:33:00   \n",
              "999         1325.10           7   9275.70  2/18/2019  13:28:00   \n",
              "\n",
              "             Pagamento        COGS  Avaliação  \n",
              "0                  PIX   4705.4700         91  \n",
              "1             Dinheiro   1031.4000         96  \n",
              "2    Cartão de Crédito   3405.2550         74  \n",
              "3                  PIX   4191.8400         84  \n",
              "4                  PIX   6796.9125         53  \n",
              "..                 ...         ...        ...  \n",
              "995                PIX    363.1500         62  \n",
              "996                PIX  10224.9000         44  \n",
              "997           Dinheiro    405.9600         77  \n",
              "998           Dinheiro    691.1100         41  \n",
              "999           Dinheiro   6956.7750         66  \n",
              "\n",
              "[1000 rows x 13 columns]"
            ],
            "text/html": [
              "\n",
              "  <div id=\"df-48effd9d-767f-454e-92dc-a42467073c3c\">\n",
              "    <div class=\"colab-df-container\">\n",
              "      <div>\n",
              "<style scoped>\n",
              "    .dataframe tbody tr th:only-of-type {\n",
              "        vertical-align: middle;\n",
              "    }\n",
              "\n",
              "    .dataframe tbody tr th {\n",
              "        vertical-align: top;\n",
              "    }\n",
              "\n",
              "    .dataframe thead th {\n",
              "        text-align: right;\n",
              "    }\n",
              "</style>\n",
              "<table border=\"1\" class=\"dataframe\">\n",
              "  <thead>\n",
              "    <tr style=\"text-align: right;\">\n",
              "      <th></th>\n",
              "      <th>Unnamed: 0</th>\n",
              "      <th>Filial</th>\n",
              "      <th>Tipo de Cliente</th>\n",
              "      <th>Gênero</th>\n",
              "      <th>Linha de produto</th>\n",
              "      <th>Preço unitário</th>\n",
              "      <th>Quantidade</th>\n",
              "      <th>Total</th>\n",
              "      <th>Data</th>\n",
              "      <th>Tempo</th>\n",
              "      <th>Pagamento</th>\n",
              "      <th>COGS</th>\n",
              "      <th>Avaliação</th>\n",
              "    </tr>\n",
              "  </thead>\n",
              "  <tbody>\n",
              "    <tr>\n",
              "      <th>0</th>\n",
              "      <td>0</td>\n",
              "      <td>A</td>\n",
              "      <td>Member</td>\n",
              "      <td>F</td>\n",
              "      <td>Saúde e beleza</td>\n",
              "      <td>1120.35</td>\n",
              "      <td>7</td>\n",
              "      <td>7842.45</td>\n",
              "      <td>1/5/2019</td>\n",
              "      <td>13:08:00</td>\n",
              "      <td>PIX</td>\n",
              "      <td>4705.4700</td>\n",
              "      <td>91</td>\n",
              "    </tr>\n",
              "    <tr>\n",
              "      <th>1</th>\n",
              "      <td>1</td>\n",
              "      <td>C</td>\n",
              "      <td>Normal</td>\n",
              "      <td>F</td>\n",
              "      <td>Acessórios eletrônicos</td>\n",
              "      <td>229.20</td>\n",
              "      <td>5</td>\n",
              "      <td>1146.00</td>\n",
              "      <td>3/8/2019</td>\n",
              "      <td>10:29:00</td>\n",
              "      <td>Dinheiro</td>\n",
              "      <td>1031.4000</td>\n",
              "      <td>96</td>\n",
              "    </tr>\n",
              "    <tr>\n",
              "      <th>2</th>\n",
              "      <td>2</td>\n",
              "      <td>A</td>\n",
              "      <td>Normal</td>\n",
              "      <td>M</td>\n",
              "      <td>Casa e estilo de vida</td>\n",
              "      <td>694.95</td>\n",
              "      <td>7</td>\n",
              "      <td>4864.65</td>\n",
              "      <td>3/3/2019</td>\n",
              "      <td>13:23:00</td>\n",
              "      <td>Cartão de Crédito</td>\n",
              "      <td>3405.2550</td>\n",
              "      <td>74</td>\n",
              "    </tr>\n",
              "    <tr>\n",
              "      <th>3</th>\n",
              "      <td>3</td>\n",
              "      <td>A</td>\n",
              "      <td>Member</td>\n",
              "      <td>M</td>\n",
              "      <td>Saúde e beleza</td>\n",
              "      <td>873.30</td>\n",
              "      <td>8</td>\n",
              "      <td>6986.40</td>\n",
              "      <td>1/27/2019</td>\n",
              "      <td>20:33:00</td>\n",
              "      <td>PIX</td>\n",
              "      <td>4191.8400</td>\n",
              "      <td>84</td>\n",
              "    </tr>\n",
              "    <tr>\n",
              "      <th>4</th>\n",
              "      <td>4</td>\n",
              "      <td>A</td>\n",
              "      <td>Normal</td>\n",
              "      <td>M</td>\n",
              "      <td>Esportes e viagens</td>\n",
              "      <td>1294.65</td>\n",
              "      <td>7</td>\n",
              "      <td>9062.55</td>\n",
              "      <td>2/8/2019</td>\n",
              "      <td>10:37:00</td>\n",
              "      <td>PIX</td>\n",
              "      <td>6796.9125</td>\n",
              "      <td>53</td>\n",
              "    </tr>\n",
              "    <tr>\n",
              "      <th>...</th>\n",
              "      <td>...</td>\n",
              "      <td>...</td>\n",
              "      <td>...</td>\n",
              "      <td>...</td>\n",
              "      <td>...</td>\n",
              "      <td>...</td>\n",
              "      <td>...</td>\n",
              "      <td>...</td>\n",
              "      <td>...</td>\n",
              "      <td>...</td>\n",
              "      <td>...</td>\n",
              "      <td>...</td>\n",
              "      <td>...</td>\n",
              "    </tr>\n",
              "    <tr>\n",
              "      <th>995</th>\n",
              "      <td>995</td>\n",
              "      <td>C</td>\n",
              "      <td>Normal</td>\n",
              "      <td>M</td>\n",
              "      <td>Saúde e beleza</td>\n",
              "      <td>605.25</td>\n",
              "      <td>1</td>\n",
              "      <td>605.25</td>\n",
              "      <td>1/29/2019</td>\n",
              "      <td>13:46:00</td>\n",
              "      <td>PIX</td>\n",
              "      <td>363.1500</td>\n",
              "      <td>62</td>\n",
              "    </tr>\n",
              "    <tr>\n",
              "      <th>996</th>\n",
              "      <td>996</td>\n",
              "      <td>B</td>\n",
              "      <td>Normal</td>\n",
              "      <td>F</td>\n",
              "      <td>Casa e estilo de vida</td>\n",
              "      <td>1460.70</td>\n",
              "      <td>10</td>\n",
              "      <td>14607.00</td>\n",
              "      <td>3/2/2019</td>\n",
              "      <td>17:16:00</td>\n",
              "      <td>PIX</td>\n",
              "      <td>10224.9000</td>\n",
              "      <td>44</td>\n",
              "    </tr>\n",
              "    <tr>\n",
              "      <th>997</th>\n",
              "      <td>997</td>\n",
              "      <td>A</td>\n",
              "      <td>Member</td>\n",
              "      <td>M</td>\n",
              "      <td>Comida e bebidas</td>\n",
              "      <td>477.60</td>\n",
              "      <td>1</td>\n",
              "      <td>477.60</td>\n",
              "      <td>2/9/2019</td>\n",
              "      <td>13:22:00</td>\n",
              "      <td>Dinheiro</td>\n",
              "      <td>405.9600</td>\n",
              "      <td>77</td>\n",
              "    </tr>\n",
              "    <tr>\n",
              "      <th>998</th>\n",
              "      <td>998</td>\n",
              "      <td>A</td>\n",
              "      <td>Normal</td>\n",
              "      <td>M</td>\n",
              "      <td>Casa e estilo de vida</td>\n",
              "      <td>987.30</td>\n",
              "      <td>1</td>\n",
              "      <td>987.30</td>\n",
              "      <td>2/22/2019</td>\n",
              "      <td>15:33:00</td>\n",
              "      <td>Dinheiro</td>\n",
              "      <td>691.1100</td>\n",
              "      <td>41</td>\n",
              "    </tr>\n",
              "    <tr>\n",
              "      <th>999</th>\n",
              "      <td>999</td>\n",
              "      <td>A</td>\n",
              "      <td>Member</td>\n",
              "      <td>F</td>\n",
              "      <td>Acessórios fashions</td>\n",
              "      <td>1325.10</td>\n",
              "      <td>7</td>\n",
              "      <td>9275.70</td>\n",
              "      <td>2/18/2019</td>\n",
              "      <td>13:28:00</td>\n",
              "      <td>Dinheiro</td>\n",
              "      <td>6956.7750</td>\n",
              "      <td>66</td>\n",
              "    </tr>\n",
              "  </tbody>\n",
              "</table>\n",
              "<p>1000 rows × 13 columns</p>\n",
              "</div>\n",
              "      <button class=\"colab-df-convert\" onclick=\"convertToInteractive('df-48effd9d-767f-454e-92dc-a42467073c3c')\"\n",
              "              title=\"Convert this dataframe to an interactive table.\"\n",
              "              style=\"display:none;\">\n",
              "        \n",
              "  <svg xmlns=\"http://www.w3.org/2000/svg\" height=\"24px\"viewBox=\"0 0 24 24\"\n",
              "       width=\"24px\">\n",
              "    <path d=\"M0 0h24v24H0V0z\" fill=\"none\"/>\n",
              "    <path d=\"M18.56 5.44l.94 2.06.94-2.06 2.06-.94-2.06-.94-.94-2.06-.94 2.06-2.06.94zm-11 1L8.5 8.5l.94-2.06 2.06-.94-2.06-.94L8.5 2.5l-.94 2.06-2.06.94zm10 10l.94 2.06.94-2.06 2.06-.94-2.06-.94-.94-2.06-.94 2.06-2.06.94z\"/><path d=\"M17.41 7.96l-1.37-1.37c-.4-.4-.92-.59-1.43-.59-.52 0-1.04.2-1.43.59L10.3 9.45l-7.72 7.72c-.78.78-.78 2.05 0 2.83L4 21.41c.39.39.9.59 1.41.59.51 0 1.02-.2 1.41-.59l7.78-7.78 2.81-2.81c.8-.78.8-2.07 0-2.86zM5.41 20L4 18.59l7.72-7.72 1.47 1.35L5.41 20z\"/>\n",
              "  </svg>\n",
              "      </button>\n",
              "      \n",
              "  <style>\n",
              "    .colab-df-container {\n",
              "      display:flex;\n",
              "      flex-wrap:wrap;\n",
              "      gap: 12px;\n",
              "    }\n",
              "\n",
              "    .colab-df-convert {\n",
              "      background-color: #E8F0FE;\n",
              "      border: none;\n",
              "      border-radius: 50%;\n",
              "      cursor: pointer;\n",
              "      display: none;\n",
              "      fill: #1967D2;\n",
              "      height: 32px;\n",
              "      padding: 0 0 0 0;\n",
              "      width: 32px;\n",
              "    }\n",
              "\n",
              "    .colab-df-convert:hover {\n",
              "      background-color: #E2EBFA;\n",
              "      box-shadow: 0px 1px 2px rgba(60, 64, 67, 0.3), 0px 1px 3px 1px rgba(60, 64, 67, 0.15);\n",
              "      fill: #174EA6;\n",
              "    }\n",
              "\n",
              "    [theme=dark] .colab-df-convert {\n",
              "      background-color: #3B4455;\n",
              "      fill: #D2E3FC;\n",
              "    }\n",
              "\n",
              "    [theme=dark] .colab-df-convert:hover {\n",
              "      background-color: #434B5C;\n",
              "      box-shadow: 0px 1px 3px 1px rgba(0, 0, 0, 0.15);\n",
              "      filter: drop-shadow(0px 1px 2px rgba(0, 0, 0, 0.3));\n",
              "      fill: #FFFFFF;\n",
              "    }\n",
              "  </style>\n",
              "\n",
              "      <script>\n",
              "        const buttonEl =\n",
              "          document.querySelector('#df-48effd9d-767f-454e-92dc-a42467073c3c button.colab-df-convert');\n",
              "        buttonEl.style.display =\n",
              "          google.colab.kernel.accessAllowed ? 'block' : 'none';\n",
              "\n",
              "        async function convertToInteractive(key) {\n",
              "          const element = document.querySelector('#df-48effd9d-767f-454e-92dc-a42467073c3c');\n",
              "          const dataTable =\n",
              "            await google.colab.kernel.invokeFunction('convertToInteractive',\n",
              "                                                     [key], {});\n",
              "          if (!dataTable) return;\n",
              "\n",
              "          const docLinkHtml = 'Like what you see? Visit the ' +\n",
              "            '<a target=\"_blank\" href=https://colab.research.google.com/notebooks/data_table.ipynb>data table notebook</a>'\n",
              "            + ' to learn more about interactive tables.';\n",
              "          element.innerHTML = '';\n",
              "          dataTable['output_type'] = 'display_data';\n",
              "          await google.colab.output.renderOutput(dataTable, element);\n",
              "          const docLink = document.createElement('div');\n",
              "          docLink.innerHTML = docLinkHtml;\n",
              "          element.appendChild(docLink);\n",
              "        }\n",
              "      </script>\n",
              "    </div>\n",
              "  </div>\n",
              "  "
            ]
          },
          "metadata": {},
          "execution_count": 12
        }
      ]
    },
    {
      "cell_type": "code",
      "source": [
        "df.replace({'Tipo de Cliente' : {'Member' : 'Associado'}}, inplace = True)"
      ],
      "metadata": {
        "id": "6zrLh-8UQwoU"
      },
      "execution_count": 13,
      "outputs": []
    },
    {
      "cell_type": "code",
      "source": [
        "df = df.rename(columns={'Tempo' : 'Horário'})"
      ],
      "metadata": {
        "id": "jyptGsHVSUXO"
      },
      "execution_count": 14,
      "outputs": []
    },
    {
      "cell_type": "code",
      "source": [
        "df.drop(columns=['Unnamed: 0'], inplace = True)"
      ],
      "metadata": {
        "id": "cv50mKBZUfvk"
      },
      "execution_count": 15,
      "outputs": []
    },
    {
      "cell_type": "code",
      "source": [
        "df.dtypes"
      ],
      "metadata": {
        "colab": {
          "base_uri": "https://localhost:8080/"
        },
        "id": "cy49plpdUrw2",
        "outputId": "3a1061dc-7908-41cb-92c6-78868a7030b2"
      },
      "execution_count": 16,
      "outputs": [
        {
          "output_type": "execute_result",
          "data": {
            "text/plain": [
              "Filial               object\n",
              "Tipo de Cliente      object\n",
              "Gênero               object\n",
              "Linha de produto     object\n",
              "Preço unitário      float64\n",
              "Quantidade            int64\n",
              "Total               float64\n",
              "Data                 object\n",
              "Horário              object\n",
              "Pagamento            object\n",
              "COGS                float64\n",
              "Avaliação             int64\n",
              "dtype: object"
            ]
          },
          "metadata": {},
          "execution_count": 16
        }
      ]
    },
    {
      "cell_type": "code",
      "source": [
        "df['Data']"
      ],
      "metadata": {
        "colab": {
          "base_uri": "https://localhost:8080/"
        },
        "id": "JPPEzZVBUxyg",
        "outputId": "d37021b2-1577-46fb-99f9-c84b2e555425"
      },
      "execution_count": 17,
      "outputs": [
        {
          "output_type": "execute_result",
          "data": {
            "text/plain": [
              "0       1/5/2019\n",
              "1       3/8/2019\n",
              "2       3/3/2019\n",
              "3      1/27/2019\n",
              "4       2/8/2019\n",
              "         ...    \n",
              "995    1/29/2019\n",
              "996     3/2/2019\n",
              "997     2/9/2019\n",
              "998    2/22/2019\n",
              "999    2/18/2019\n",
              "Name: Data, Length: 1000, dtype: object"
            ]
          },
          "metadata": {},
          "execution_count": 17
        }
      ]
    },
    {
      "cell_type": "code",
      "source": [
        "df['Horário']"
      ],
      "metadata": {
        "colab": {
          "base_uri": "https://localhost:8080/"
        },
        "id": "ryfVP8IgU5Yj",
        "outputId": "bdfd64f5-8a89-4d99-bd41-6f050ec89d51"
      },
      "execution_count": 18,
      "outputs": [
        {
          "output_type": "execute_result",
          "data": {
            "text/plain": [
              "0      13:08:00\n",
              "1      10:29:00\n",
              "2      13:23:00\n",
              "3      20:33:00\n",
              "4      10:37:00\n",
              "         ...   \n",
              "995    13:46:00\n",
              "996    17:16:00\n",
              "997    13:22:00\n",
              "998    15:33:00\n",
              "999    13:28:00\n",
              "Name: Horário, Length: 1000, dtype: object"
            ]
          },
          "metadata": {},
          "execution_count": 18
        }
      ]
    },
    {
      "cell_type": "code",
      "source": [
        "df['Data'].unique()"
      ],
      "metadata": {
        "colab": {
          "base_uri": "https://localhost:8080/"
        },
        "id": "rJHBbozMVACv",
        "outputId": "5e79ad0d-805d-49e8-af46-3b81c7e38627"
      },
      "execution_count": 19,
      "outputs": [
        {
          "output_type": "execute_result",
          "data": {
            "text/plain": [
              "array(['1/5/2019', '3/8/2019', '3/3/2019', '1/27/2019', '2/8/2019',\n",
              "       '3/25/2019', '2/25/2019', '2/24/2019', '1/10/2019', '2/20/2019',\n",
              "       '2/6/2019', '3/9/2019', '2/12/2019', '2/7/2019', '3/29/2019',\n",
              "       '1/15/2019', '3/11/2019', '1/1/2019', '1/21/2019', '3/5/2019',\n",
              "       '3/15/2019', '2/17/2019', '3/2/2019', '3/22/2019', '3/10/2019',\n",
              "       '1/25/2019', '1/28/2019', '1/7/2019', '3/23/2019', '1/17/2019',\n",
              "       '2/2/2019', '3/4/2019', '3/16/2019', '2/27/2019', '2/10/2019',\n",
              "       '3/19/2019', '2/3/2019', '3/7/2019', '2/28/2019', '3/27/2019',\n",
              "       '1/20/2019', '3/12/2019', '2/15/2019', '3/6/2019', '2/14/2019',\n",
              "       '3/13/2019', '1/24/2019', '1/6/2019', '2/11/2019', '1/22/2019',\n",
              "       '1/13/2019', '1/9/2019', '1/12/2019', '1/26/2019', '1/23/2019',\n",
              "       '2/23/2019', '1/2/2019', '2/9/2019', '3/26/2019', '3/1/2019',\n",
              "       '2/1/2019', '3/28/2019', '3/24/2019', '2/5/2019', '1/19/2019',\n",
              "       '1/16/2019', '1/8/2019', '2/18/2019', '1/18/2019', '2/16/2019',\n",
              "       '2/22/2019', '1/29/2019', '1/4/2019', '3/30/2019', '1/30/2019',\n",
              "       '1/3/2019', '3/21/2019', '2/13/2019', '1/14/2019', '3/18/2019',\n",
              "       '3/20/2019', '2/21/2019', '1/31/2019', '1/11/2019', '2/26/2019',\n",
              "       '3/17/2019', '3/14/2019', '2/4/2019', '2/19/2019'], dtype=object)"
            ]
          },
          "metadata": {},
          "execution_count": 19
        }
      ]
    },
    {
      "cell_type": "code",
      "source": [
        "df['Data'] =pd.to_datetime(df['Data'])"
      ],
      "metadata": {
        "id": "1tin3cTCVHpq"
      },
      "execution_count": 20,
      "outputs": []
    },
    {
      "cell_type": "code",
      "source": [
        "df['Horário'] = pd.to_datetime(df['Horário'])"
      ],
      "metadata": {
        "id": "_PwK8Un6cnlQ"
      },
      "execution_count": 21,
      "outputs": []
    },
    {
      "cell_type": "code",
      "source": [
        "df['Horário']"
      ],
      "metadata": {
        "colab": {
          "base_uri": "https://localhost:8080/"
        },
        "id": "qwXtQQnSdBbj",
        "outputId": "570a72a0-b162-4290-8123-e1ce95642f4d"
      },
      "execution_count": 22,
      "outputs": [
        {
          "output_type": "execute_result",
          "data": {
            "text/plain": [
              "0     2023-03-15 13:08:00\n",
              "1     2023-03-15 10:29:00\n",
              "2     2023-03-15 13:23:00\n",
              "3     2023-03-15 20:33:00\n",
              "4     2023-03-15 10:37:00\n",
              "              ...        \n",
              "995   2023-03-15 13:46:00\n",
              "996   2023-03-15 17:16:00\n",
              "997   2023-03-15 13:22:00\n",
              "998   2023-03-15 15:33:00\n",
              "999   2023-03-15 13:28:00\n",
              "Name: Horário, Length: 1000, dtype: datetime64[ns]"
            ]
          },
          "metadata": {},
          "execution_count": 22
        }
      ]
    },
    {
      "cell_type": "code",
      "source": [
        "df['Data']"
      ],
      "metadata": {
        "colab": {
          "base_uri": "https://localhost:8080/"
        },
        "id": "z2HXB8cydEsS",
        "outputId": "7e4d448c-f38a-4f1c-d716-518810eb87c5"
      },
      "execution_count": 23,
      "outputs": [
        {
          "output_type": "execute_result",
          "data": {
            "text/plain": [
              "0     2019-01-05\n",
              "1     2019-03-08\n",
              "2     2019-03-03\n",
              "3     2019-01-27\n",
              "4     2019-02-08\n",
              "         ...    \n",
              "995   2019-01-29\n",
              "996   2019-03-02\n",
              "997   2019-02-09\n",
              "998   2019-02-22\n",
              "999   2019-02-18\n",
              "Name: Data, Length: 1000, dtype: datetime64[ns]"
            ]
          },
          "metadata": {},
          "execution_count": 23
        }
      ]
    },
    {
      "cell_type": "code",
      "source": [
        "df.duplicated().sum()"
      ],
      "metadata": {
        "colab": {
          "base_uri": "https://localhost:8080/"
        },
        "id": "V2UcOvtUdImT",
        "outputId": "9a776c61-dbe0-4642-f2ad-9f241c7f9af7"
      },
      "execution_count": 24,
      "outputs": [
        {
          "output_type": "execute_result",
          "data": {
            "text/plain": [
              "0"
            ]
          },
          "metadata": {},
          "execution_count": 24
        }
      ]
    },
    {
      "cell_type": "code",
      "source": [
        "meses = {1: 'Janeiro',2: 'Fevereiro',3: 'Março'}"
      ],
      "metadata": {
        "id": "_-wPbTNvdm6s"
      },
      "execution_count": 25,
      "outputs": []
    },
    {
      "cell_type": "code",
      "source": [
        "pd.to_datetime(df['Data']).dt.month.map(meses)"
      ],
      "metadata": {
        "colab": {
          "base_uri": "https://localhost:8080/"
        },
        "id": "473VXGGReEHT",
        "outputId": "485c6578-c27d-4b96-efc0-d6aac2730296"
      },
      "execution_count": 26,
      "outputs": [
        {
          "output_type": "execute_result",
          "data": {
            "text/plain": [
              "0        Janeiro\n",
              "1          Março\n",
              "2          Março\n",
              "3        Janeiro\n",
              "4      Fevereiro\n",
              "         ...    \n",
              "995      Janeiro\n",
              "996        Março\n",
              "997    Fevereiro\n",
              "998    Fevereiro\n",
              "999    Fevereiro\n",
              "Name: Data, Length: 1000, dtype: object"
            ]
          },
          "metadata": {},
          "execution_count": 26
        }
      ]
    },
    {
      "cell_type": "code",
      "source": [
        "df['Data'] = pd.to_datetime(df['Data']).dt.month.map(meses)"
      ],
      "metadata": {
        "id": "i26EOEAneXqJ"
      },
      "execution_count": 27,
      "outputs": []
    },
    {
      "cell_type": "markdown",
      "source": [],
      "metadata": {
        "id": "_o2vTBbUhIjj"
      }
    },
    {
      "cell_type": "code",
      "source": [
        "df['Horário'] = df['Horário'].dt.strftime('%H')"
      ],
      "metadata": {
        "id": "MYpRKVHwfUn2"
      },
      "execution_count": 28,
      "outputs": []
    },
    {
      "cell_type": "code",
      "source": [
        "df.dtypes"
      ],
      "metadata": {
        "colab": {
          "base_uri": "https://localhost:8080/"
        },
        "id": "BmgXAtCPjP_z",
        "outputId": "74140e54-3a81-4ede-87c4-236532da1ee3"
      },
      "execution_count": 29,
      "outputs": [
        {
          "output_type": "execute_result",
          "data": {
            "text/plain": [
              "Filial               object\n",
              "Tipo de Cliente      object\n",
              "Gênero               object\n",
              "Linha de produto     object\n",
              "Preço unitário      float64\n",
              "Quantidade            int64\n",
              "Total               float64\n",
              "Data                 object\n",
              "Horário              object\n",
              "Pagamento            object\n",
              "COGS                float64\n",
              "Avaliação             int64\n",
              "dtype: object"
            ]
          },
          "metadata": {},
          "execution_count": 29
        }
      ]
    },
    {
      "cell_type": "code",
      "source": [
        "time = []\n",
        "for i in list(map(int,df['Horário'])):\n",
        "  if i > 8 and i < 13:\n",
        "    time.append('Manhã')\n",
        "  elif i > 12 and i < 19:\n",
        "    time.append('Tarde')\n",
        "  else:\n",
        "    time.append('Noite')\n",
        "df['Horário'] = time\n"
      ],
      "metadata": {
        "id": "JZZkfm9mmRCS"
      },
      "execution_count": 30,
      "outputs": []
    },
    {
      "cell_type": "code",
      "source": [
        "df.head()"
      ],
      "metadata": {
        "colab": {
          "base_uri": "https://localhost:8080/",
          "height": 250
        },
        "id": "9H2gbY5ZmwdM",
        "outputId": "86f1395b-79e0-4deb-ae6e-2a26c74bc26d"
      },
      "execution_count": 31,
      "outputs": [
        {
          "output_type": "execute_result",
          "data": {
            "text/plain": [
              "  Filial Tipo de Cliente Gênero        Linha de produto  Preço unitário  \\\n",
              "0      A       Associado      F          Saúde e beleza         1120.35   \n",
              "1      C          Normal      F  Acessórios eletrônicos          229.20   \n",
              "2      A          Normal      M   Casa e estilo de vida          694.95   \n",
              "3      A       Associado      M          Saúde e beleza          873.30   \n",
              "4      A          Normal      M      Esportes e viagens         1294.65   \n",
              "\n",
              "   Quantidade    Total       Data Horário          Pagamento       COGS  \\\n",
              "0           7  7842.45    Janeiro   Tarde                PIX  4705.4700   \n",
              "1           5  1146.00      Março   Manhã           Dinheiro  1031.4000   \n",
              "2           7  4864.65      Março   Tarde  Cartão de Crédito  3405.2550   \n",
              "3           8  6986.40    Janeiro   Noite                PIX  4191.8400   \n",
              "4           7  9062.55  Fevereiro   Manhã                PIX  6796.9125   \n",
              "\n",
              "   Avaliação  \n",
              "0         91  \n",
              "1         96  \n",
              "2         74  \n",
              "3         84  \n",
              "4         53  "
            ],
            "text/html": [
              "\n",
              "  <div id=\"df-c3109723-afb5-4d40-be3a-e4560c211cc4\">\n",
              "    <div class=\"colab-df-container\">\n",
              "      <div>\n",
              "<style scoped>\n",
              "    .dataframe tbody tr th:only-of-type {\n",
              "        vertical-align: middle;\n",
              "    }\n",
              "\n",
              "    .dataframe tbody tr th {\n",
              "        vertical-align: top;\n",
              "    }\n",
              "\n",
              "    .dataframe thead th {\n",
              "        text-align: right;\n",
              "    }\n",
              "</style>\n",
              "<table border=\"1\" class=\"dataframe\">\n",
              "  <thead>\n",
              "    <tr style=\"text-align: right;\">\n",
              "      <th></th>\n",
              "      <th>Filial</th>\n",
              "      <th>Tipo de Cliente</th>\n",
              "      <th>Gênero</th>\n",
              "      <th>Linha de produto</th>\n",
              "      <th>Preço unitário</th>\n",
              "      <th>Quantidade</th>\n",
              "      <th>Total</th>\n",
              "      <th>Data</th>\n",
              "      <th>Horário</th>\n",
              "      <th>Pagamento</th>\n",
              "      <th>COGS</th>\n",
              "      <th>Avaliação</th>\n",
              "    </tr>\n",
              "  </thead>\n",
              "  <tbody>\n",
              "    <tr>\n",
              "      <th>0</th>\n",
              "      <td>A</td>\n",
              "      <td>Associado</td>\n",
              "      <td>F</td>\n",
              "      <td>Saúde e beleza</td>\n",
              "      <td>1120.35</td>\n",
              "      <td>7</td>\n",
              "      <td>7842.45</td>\n",
              "      <td>Janeiro</td>\n",
              "      <td>Tarde</td>\n",
              "      <td>PIX</td>\n",
              "      <td>4705.4700</td>\n",
              "      <td>91</td>\n",
              "    </tr>\n",
              "    <tr>\n",
              "      <th>1</th>\n",
              "      <td>C</td>\n",
              "      <td>Normal</td>\n",
              "      <td>F</td>\n",
              "      <td>Acessórios eletrônicos</td>\n",
              "      <td>229.20</td>\n",
              "      <td>5</td>\n",
              "      <td>1146.00</td>\n",
              "      <td>Março</td>\n",
              "      <td>Manhã</td>\n",
              "      <td>Dinheiro</td>\n",
              "      <td>1031.4000</td>\n",
              "      <td>96</td>\n",
              "    </tr>\n",
              "    <tr>\n",
              "      <th>2</th>\n",
              "      <td>A</td>\n",
              "      <td>Normal</td>\n",
              "      <td>M</td>\n",
              "      <td>Casa e estilo de vida</td>\n",
              "      <td>694.95</td>\n",
              "      <td>7</td>\n",
              "      <td>4864.65</td>\n",
              "      <td>Março</td>\n",
              "      <td>Tarde</td>\n",
              "      <td>Cartão de Crédito</td>\n",
              "      <td>3405.2550</td>\n",
              "      <td>74</td>\n",
              "    </tr>\n",
              "    <tr>\n",
              "      <th>3</th>\n",
              "      <td>A</td>\n",
              "      <td>Associado</td>\n",
              "      <td>M</td>\n",
              "      <td>Saúde e beleza</td>\n",
              "      <td>873.30</td>\n",
              "      <td>8</td>\n",
              "      <td>6986.40</td>\n",
              "      <td>Janeiro</td>\n",
              "      <td>Noite</td>\n",
              "      <td>PIX</td>\n",
              "      <td>4191.8400</td>\n",
              "      <td>84</td>\n",
              "    </tr>\n",
              "    <tr>\n",
              "      <th>4</th>\n",
              "      <td>A</td>\n",
              "      <td>Normal</td>\n",
              "      <td>M</td>\n",
              "      <td>Esportes e viagens</td>\n",
              "      <td>1294.65</td>\n",
              "      <td>7</td>\n",
              "      <td>9062.55</td>\n",
              "      <td>Fevereiro</td>\n",
              "      <td>Manhã</td>\n",
              "      <td>PIX</td>\n",
              "      <td>6796.9125</td>\n",
              "      <td>53</td>\n",
              "    </tr>\n",
              "  </tbody>\n",
              "</table>\n",
              "</div>\n",
              "      <button class=\"colab-df-convert\" onclick=\"convertToInteractive('df-c3109723-afb5-4d40-be3a-e4560c211cc4')\"\n",
              "              title=\"Convert this dataframe to an interactive table.\"\n",
              "              style=\"display:none;\">\n",
              "        \n",
              "  <svg xmlns=\"http://www.w3.org/2000/svg\" height=\"24px\"viewBox=\"0 0 24 24\"\n",
              "       width=\"24px\">\n",
              "    <path d=\"M0 0h24v24H0V0z\" fill=\"none\"/>\n",
              "    <path d=\"M18.56 5.44l.94 2.06.94-2.06 2.06-.94-2.06-.94-.94-2.06-.94 2.06-2.06.94zm-11 1L8.5 8.5l.94-2.06 2.06-.94-2.06-.94L8.5 2.5l-.94 2.06-2.06.94zm10 10l.94 2.06.94-2.06 2.06-.94-2.06-.94-.94-2.06-.94 2.06-2.06.94z\"/><path d=\"M17.41 7.96l-1.37-1.37c-.4-.4-.92-.59-1.43-.59-.52 0-1.04.2-1.43.59L10.3 9.45l-7.72 7.72c-.78.78-.78 2.05 0 2.83L4 21.41c.39.39.9.59 1.41.59.51 0 1.02-.2 1.41-.59l7.78-7.78 2.81-2.81c.8-.78.8-2.07 0-2.86zM5.41 20L4 18.59l7.72-7.72 1.47 1.35L5.41 20z\"/>\n",
              "  </svg>\n",
              "      </button>\n",
              "      \n",
              "  <style>\n",
              "    .colab-df-container {\n",
              "      display:flex;\n",
              "      flex-wrap:wrap;\n",
              "      gap: 12px;\n",
              "    }\n",
              "\n",
              "    .colab-df-convert {\n",
              "      background-color: #E8F0FE;\n",
              "      border: none;\n",
              "      border-radius: 50%;\n",
              "      cursor: pointer;\n",
              "      display: none;\n",
              "      fill: #1967D2;\n",
              "      height: 32px;\n",
              "      padding: 0 0 0 0;\n",
              "      width: 32px;\n",
              "    }\n",
              "\n",
              "    .colab-df-convert:hover {\n",
              "      background-color: #E2EBFA;\n",
              "      box-shadow: 0px 1px 2px rgba(60, 64, 67, 0.3), 0px 1px 3px 1px rgba(60, 64, 67, 0.15);\n",
              "      fill: #174EA6;\n",
              "    }\n",
              "\n",
              "    [theme=dark] .colab-df-convert {\n",
              "      background-color: #3B4455;\n",
              "      fill: #D2E3FC;\n",
              "    }\n",
              "\n",
              "    [theme=dark] .colab-df-convert:hover {\n",
              "      background-color: #434B5C;\n",
              "      box-shadow: 0px 1px 3px 1px rgba(0, 0, 0, 0.15);\n",
              "      filter: drop-shadow(0px 1px 2px rgba(0, 0, 0, 0.3));\n",
              "      fill: #FFFFFF;\n",
              "    }\n",
              "  </style>\n",
              "\n",
              "      <script>\n",
              "        const buttonEl =\n",
              "          document.querySelector('#df-c3109723-afb5-4d40-be3a-e4560c211cc4 button.colab-df-convert');\n",
              "        buttonEl.style.display =\n",
              "          google.colab.kernel.accessAllowed ? 'block' : 'none';\n",
              "\n",
              "        async function convertToInteractive(key) {\n",
              "          const element = document.querySelector('#df-c3109723-afb5-4d40-be3a-e4560c211cc4');\n",
              "          const dataTable =\n",
              "            await google.colab.kernel.invokeFunction('convertToInteractive',\n",
              "                                                     [key], {});\n",
              "          if (!dataTable) return;\n",
              "\n",
              "          const docLinkHtml = 'Like what you see? Visit the ' +\n",
              "            '<a target=\"_blank\" href=https://colab.research.google.com/notebooks/data_table.ipynb>data table notebook</a>'\n",
              "            + ' to learn more about interactive tables.';\n",
              "          element.innerHTML = '';\n",
              "          dataTable['output_type'] = 'display_data';\n",
              "          await google.colab.output.renderOutput(dataTable, element);\n",
              "          const docLink = document.createElement('div');\n",
              "          docLink.innerHTML = docLinkHtml;\n",
              "          element.appendChild(docLink);\n",
              "        }\n",
              "      </script>\n",
              "    </div>\n",
              "  </div>\n",
              "  "
            ]
          },
          "metadata": {},
          "execution_count": 31
        }
      ]
    },
    {
      "cell_type": "code",
      "source": [
        "Agrupamento = df.groupby('Linha de produto')['Avaliação'].mean().reset_index(drop=False)"
      ],
      "metadata": {
        "id": "Lg0lQvUUmyiO"
      },
      "execution_count": 32,
      "outputs": []
    },
    {
      "cell_type": "code",
      "source": [
        "Agrupamento"
      ],
      "metadata": {
        "colab": {
          "base_uri": "https://localhost:8080/",
          "height": 237
        },
        "id": "MRraTFNgnL0O",
        "outputId": "38e62fda-ef06-47ef-a13f-97d7ef968871"
      },
      "execution_count": 33,
      "outputs": [
        {
          "output_type": "execute_result",
          "data": {
            "text/plain": [
              "         Linha de produto  Avaliação\n",
              "0  Acessórios eletrônicos  61.411765\n",
              "1     Acessórios fashions  64.780899\n",
              "2   Casa e estilo de vida  63.031250\n",
              "3        Comida e bebidas  63.166667\n",
              "4      Esportes e viagens  60.379518\n",
              "5          Saúde e beleza  62.335526"
            ],
            "text/html": [
              "\n",
              "  <div id=\"df-db1010c3-54d2-417d-813e-9f2905037047\">\n",
              "    <div class=\"colab-df-container\">\n",
              "      <div>\n",
              "<style scoped>\n",
              "    .dataframe tbody tr th:only-of-type {\n",
              "        vertical-align: middle;\n",
              "    }\n",
              "\n",
              "    .dataframe tbody tr th {\n",
              "        vertical-align: top;\n",
              "    }\n",
              "\n",
              "    .dataframe thead th {\n",
              "        text-align: right;\n",
              "    }\n",
              "</style>\n",
              "<table border=\"1\" class=\"dataframe\">\n",
              "  <thead>\n",
              "    <tr style=\"text-align: right;\">\n",
              "      <th></th>\n",
              "      <th>Linha de produto</th>\n",
              "      <th>Avaliação</th>\n",
              "    </tr>\n",
              "  </thead>\n",
              "  <tbody>\n",
              "    <tr>\n",
              "      <th>0</th>\n",
              "      <td>Acessórios eletrônicos</td>\n",
              "      <td>61.411765</td>\n",
              "    </tr>\n",
              "    <tr>\n",
              "      <th>1</th>\n",
              "      <td>Acessórios fashions</td>\n",
              "      <td>64.780899</td>\n",
              "    </tr>\n",
              "    <tr>\n",
              "      <th>2</th>\n",
              "      <td>Casa e estilo de vida</td>\n",
              "      <td>63.031250</td>\n",
              "    </tr>\n",
              "    <tr>\n",
              "      <th>3</th>\n",
              "      <td>Comida e bebidas</td>\n",
              "      <td>63.166667</td>\n",
              "    </tr>\n",
              "    <tr>\n",
              "      <th>4</th>\n",
              "      <td>Esportes e viagens</td>\n",
              "      <td>60.379518</td>\n",
              "    </tr>\n",
              "    <tr>\n",
              "      <th>5</th>\n",
              "      <td>Saúde e beleza</td>\n",
              "      <td>62.335526</td>\n",
              "    </tr>\n",
              "  </tbody>\n",
              "</table>\n",
              "</div>\n",
              "      <button class=\"colab-df-convert\" onclick=\"convertToInteractive('df-db1010c3-54d2-417d-813e-9f2905037047')\"\n",
              "              title=\"Convert this dataframe to an interactive table.\"\n",
              "              style=\"display:none;\">\n",
              "        \n",
              "  <svg xmlns=\"http://www.w3.org/2000/svg\" height=\"24px\"viewBox=\"0 0 24 24\"\n",
              "       width=\"24px\">\n",
              "    <path d=\"M0 0h24v24H0V0z\" fill=\"none\"/>\n",
              "    <path d=\"M18.56 5.44l.94 2.06.94-2.06 2.06-.94-2.06-.94-.94-2.06-.94 2.06-2.06.94zm-11 1L8.5 8.5l.94-2.06 2.06-.94-2.06-.94L8.5 2.5l-.94 2.06-2.06.94zm10 10l.94 2.06.94-2.06 2.06-.94-2.06-.94-.94-2.06-.94 2.06-2.06.94z\"/><path d=\"M17.41 7.96l-1.37-1.37c-.4-.4-.92-.59-1.43-.59-.52 0-1.04.2-1.43.59L10.3 9.45l-7.72 7.72c-.78.78-.78 2.05 0 2.83L4 21.41c.39.39.9.59 1.41.59.51 0 1.02-.2 1.41-.59l7.78-7.78 2.81-2.81c.8-.78.8-2.07 0-2.86zM5.41 20L4 18.59l7.72-7.72 1.47 1.35L5.41 20z\"/>\n",
              "  </svg>\n",
              "      </button>\n",
              "      \n",
              "  <style>\n",
              "    .colab-df-container {\n",
              "      display:flex;\n",
              "      flex-wrap:wrap;\n",
              "      gap: 12px;\n",
              "    }\n",
              "\n",
              "    .colab-df-convert {\n",
              "      background-color: #E8F0FE;\n",
              "      border: none;\n",
              "      border-radius: 50%;\n",
              "      cursor: pointer;\n",
              "      display: none;\n",
              "      fill: #1967D2;\n",
              "      height: 32px;\n",
              "      padding: 0 0 0 0;\n",
              "      width: 32px;\n",
              "    }\n",
              "\n",
              "    .colab-df-convert:hover {\n",
              "      background-color: #E2EBFA;\n",
              "      box-shadow: 0px 1px 2px rgba(60, 64, 67, 0.3), 0px 1px 3px 1px rgba(60, 64, 67, 0.15);\n",
              "      fill: #174EA6;\n",
              "    }\n",
              "\n",
              "    [theme=dark] .colab-df-convert {\n",
              "      background-color: #3B4455;\n",
              "      fill: #D2E3FC;\n",
              "    }\n",
              "\n",
              "    [theme=dark] .colab-df-convert:hover {\n",
              "      background-color: #434B5C;\n",
              "      box-shadow: 0px 1px 3px 1px rgba(0, 0, 0, 0.15);\n",
              "      filter: drop-shadow(0px 1px 2px rgba(0, 0, 0, 0.3));\n",
              "      fill: #FFFFFF;\n",
              "    }\n",
              "  </style>\n",
              "\n",
              "      <script>\n",
              "        const buttonEl =\n",
              "          document.querySelector('#df-db1010c3-54d2-417d-813e-9f2905037047 button.colab-df-convert');\n",
              "        buttonEl.style.display =\n",
              "          google.colab.kernel.accessAllowed ? 'block' : 'none';\n",
              "\n",
              "        async function convertToInteractive(key) {\n",
              "          const element = document.querySelector('#df-db1010c3-54d2-417d-813e-9f2905037047');\n",
              "          const dataTable =\n",
              "            await google.colab.kernel.invokeFunction('convertToInteractive',\n",
              "                                                     [key], {});\n",
              "          if (!dataTable) return;\n",
              "\n",
              "          const docLinkHtml = 'Like what you see? Visit the ' +\n",
              "            '<a target=\"_blank\" href=https://colab.research.google.com/notebooks/data_table.ipynb>data table notebook</a>'\n",
              "            + ' to learn more about interactive tables.';\n",
              "          element.innerHTML = '';\n",
              "          dataTable['output_type'] = 'display_data';\n",
              "          await google.colab.output.renderOutput(dataTable, element);\n",
              "          const docLink = document.createElement('div');\n",
              "          docLink.innerHTML = docLinkHtml;\n",
              "          element.appendChild(docLink);\n",
              "        }\n",
              "      </script>\n",
              "    </div>\n",
              "  </div>\n",
              "  "
            ]
          },
          "metadata": {},
          "execution_count": 33
        }
      ]
    },
    {
      "cell_type": "code",
      "source": [
        "Agrupamento_avaliação = Agrupamento.round(1)"
      ],
      "metadata": {
        "id": "gmM1GSu-nNC-"
      },
      "execution_count": 34,
      "outputs": []
    },
    {
      "cell_type": "code",
      "source": [
        "Agrupamento_avaliação = Agrupamento_avaliação.sort_values(by = 'Avaliação', ascending = False)"
      ],
      "metadata": {
        "id": "_z5AoGEdnyMo"
      },
      "execution_count": 35,
      "outputs": []
    },
    {
      "cell_type": "code",
      "source": [
        "Figura = sns.color_palette('gnuplot')\n",
        "Figura.reverse()"
      ],
      "metadata": {
        "id": "VlXT7et9oXhv"
      },
      "execution_count": 36,
      "outputs": []
    },
    {
      "cell_type": "code",
      "source": [
        "ax = sns.barplot(y = 'Linha de produto', x = 'Avaliação', data = Agrupamento_avaliação, palette = Figura)"
      ],
      "metadata": {
        "colab": {
          "base_uri": "https://localhost:8080/",
          "height": 279
        },
        "id": "q6qwnH2HofRa",
        "outputId": "ca0beacd-5ddb-4838-d263-9376d9e9e01b"
      },
      "execution_count": 37,
      "outputs": [
        {
          "output_type": "display_data",
          "data": {
            "text/plain": [
              "<Figure size 432x288 with 1 Axes>"
            ],
            "image/png": "[encoded data removed]"
          },
          "metadata": {
            "needs_background": "light"
          }
        }
      ]
    },
    {
      "cell_type": "code",
      "source": [
        "# qual linha de produto tem a mior media de venda (renda bruta)"
      ],
      "metadata": {
        "id": "cZMUA8-Cqc2A"
      },
      "execution_count": 38,
      "outputs": []
    },
    {
      "cell_type": "code",
      "source": [
        "agrupado_Pruto_Total = df.groupby('Linha de produto')['Total'].mean().reset_index(drop=False)"
      ],
      "metadata": {
        "id": "6AqJeU-wK3M_"
      },
      "execution_count": 39,
      "outputs": []
    },
    {
      "cell_type": "code",
      "source": [
        "agrupado_Pruto_Total"
      ],
      "metadata": {
        "colab": {
          "base_uri": "https://localhost:8080/",
          "height": 237
        },
        "id": "3jaIYKKJLMt_",
        "outputId": "b28ca5e9-85cc-468f-a3b4-05e15b57c7af"
      },
      "execution_count": 40,
      "outputs": [
        {
          "output_type": "execute_result",
          "data": {
            "text/plain": [
              "         Linha de produto        Total\n",
              "0  Acessórios eletrônicos  4278.573529\n",
              "1     Acessórios fashions  4043.292135\n",
              "2   Casa e estilo de vida  4455.973125\n",
              "3        Comida e bebidas  3912.985345\n",
              "4      Esportes e viagens  4351.833434\n",
              "5          Saúde e beleza  4024.018421"
            ],
            "text/html": [
              "\n",
              "  <div id=\"df-405e7fed-2df4-4bd7-ba04-3451204b3a99\">\n",
              "    <div class=\"colab-df-container\">\n",
              "      <div>\n",
              "<style scoped>\n",
              "    .dataframe tbody tr th:only-of-type {\n",
              "        vertical-align: middle;\n",
              "    }\n",
              "\n",
              "    .dataframe tbody tr th {\n",
              "        vertical-align: top;\n",
              "    }\n",
              "\n",
              "    .dataframe thead th {\n",
              "        text-align: right;\n",
              "    }\n",
              "</style>\n",
              "<table border=\"1\" class=\"dataframe\">\n",
              "  <thead>\n",
              "    <tr style=\"text-align: right;\">\n",
              "      <th></th>\n",
              "      <th>Linha de produto</th>\n",
              "      <th>Total</th>\n",
              "    </tr>\n",
              "  </thead>\n",
              "  <tbody>\n",
              "    <tr>\n",
              "      <th>0</th>\n",
              "      <td>Acessórios eletrônicos</td>\n",
              "      <td>4278.573529</td>\n",
              "    </tr>\n",
              "    <tr>\n",
              "      <th>1</th>\n",
              "      <td>Acessórios fashions</td>\n",
              "      <td>4043.292135</td>\n",
              "    </tr>\n",
              "    <tr>\n",
              "      <th>2</th>\n",
              "      <td>Casa e estilo de vida</td>\n",
              "      <td>4455.973125</td>\n",
              "    </tr>\n",
              "    <tr>\n",
              "      <th>3</th>\n",
              "      <td>Comida e bebidas</td>\n",
              "      <td>3912.985345</td>\n",
              "    </tr>\n",
              "    <tr>\n",
              "      <th>4</th>\n",
              "      <td>Esportes e viagens</td>\n",
              "      <td>4351.833434</td>\n",
              "    </tr>\n",
              "    <tr>\n",
              "      <th>5</th>\n",
              "      <td>Saúde e beleza</td>\n",
              "      <td>4024.018421</td>\n",
              "    </tr>\n",
              "  </tbody>\n",
              "</table>\n",
              "</div>\n",
              "      <button class=\"colab-df-convert\" onclick=\"convertToInteractive('df-405e7fed-2df4-4bd7-ba04-3451204b3a99')\"\n",
              "              title=\"Convert this dataframe to an interactive table.\"\n",
              "              style=\"display:none;\">\n",
              "        \n",
              "  <svg xmlns=\"http://www.w3.org/2000/svg\" height=\"24px\"viewBox=\"0 0 24 24\"\n",
              "       width=\"24px\">\n",
              "    <path d=\"M0 0h24v24H0V0z\" fill=\"none\"/>\n",
              "    <path d=\"M18.56 5.44l.94 2.06.94-2.06 2.06-.94-2.06-.94-.94-2.06-.94 2.06-2.06.94zm-11 1L8.5 8.5l.94-2.06 2.06-.94-2.06-.94L8.5 2.5l-.94 2.06-2.06.94zm10 10l.94 2.06.94-2.06 2.06-.94-2.06-.94-.94-2.06-.94 2.06-2.06.94z\"/><path d=\"M17.41 7.96l-1.37-1.37c-.4-.4-.92-.59-1.43-.59-.52 0-1.04.2-1.43.59L10.3 9.45l-7.72 7.72c-.78.78-.78 2.05 0 2.83L4 21.41c.39.39.9.59 1.41.59.51 0 1.02-.2 1.41-.59l7.78-7.78 2.81-2.81c.8-.78.8-2.07 0-2.86zM5.41 20L4 18.59l7.72-7.72 1.47 1.35L5.41 20z\"/>\n",
              "  </svg>\n",
              "      </button>\n",
              "      \n",
              "  <style>\n",
              "    .colab-df-container {\n",
              "      display:flex;\n",
              "      flex-wrap:wrap;\n",
              "      gap: 12px;\n",
              "    }\n",
              "\n",
              "    .colab-df-convert {\n",
              "      background-color: #E8F0FE;\n",
              "      border: none;\n",
              "      border-radius: 50%;\n",
              "      cursor: pointer;\n",
              "      display: none;\n",
              "      fill: #1967D2;\n",
              "      height: 32px;\n",
              "      padding: 0 0 0 0;\n",
              "      width: 32px;\n",
              "    }\n",
              "\n",
              "    .colab-df-convert:hover {\n",
              "      background-color: #E2EBFA;\n",
              "      box-shadow: 0px 1px 2px rgba(60, 64, 67, 0.3), 0px 1px 3px 1px rgba(60, 64, 67, 0.15);\n",
              "      fill: #174EA6;\n",
              "    }\n",
              "\n",
              "    [theme=dark] .colab-df-convert {\n",
              "      background-color: #3B4455;\n",
              "      fill: #D2E3FC;\n",
              "    }\n",
              "\n",
              "    [theme=dark] .colab-df-convert:hover {\n",
              "      background-color: #434B5C;\n",
              "      box-shadow: 0px 1px 3px 1px rgba(0, 0, 0, 0.15);\n",
              "      filter: drop-shadow(0px 1px 2px rgba(0, 0, 0, 0.3));\n",
              "      fill: #FFFFFF;\n",
              "    }\n",
              "  </style>\n",
              "\n",
              "      <script>\n",
              "        const buttonEl =\n",
              "          document.querySelector('#df-405e7fed-2df4-4bd7-ba04-3451204b3a99 button.colab-df-convert');\n",
              "        buttonEl.style.display =\n",
              "          google.colab.kernel.accessAllowed ? 'block' : 'none';\n",
              "\n",
              "        async function convertToInteractive(key) {\n",
              "          const element = document.querySelector('#df-405e7fed-2df4-4bd7-ba04-3451204b3a99');\n",
              "          const dataTable =\n",
              "            await google.colab.kernel.invokeFunction('convertToInteractive',\n",
              "                                                     [key], {});\n",
              "          if (!dataTable) return;\n",
              "\n",
              "          const docLinkHtml = 'Like what you see? Visit the ' +\n",
              "            '<a target=\"_blank\" href=https://colab.research.google.com/notebooks/data_table.ipynb>data table notebook</a>'\n",
              "            + ' to learn more about interactive tables.';\n",
              "          element.innerHTML = '';\n",
              "          dataTable['output_type'] = 'display_data';\n",
              "          await google.colab.output.renderOutput(dataTable, element);\n",
              "          const docLink = document.createElement('div');\n",
              "          docLink.innerHTML = docLinkHtml;\n",
              "          element.appendChild(docLink);\n",
              "        }\n",
              "      </script>\n",
              "    </div>\n",
              "  </div>\n",
              "  "
            ]
          },
          "metadata": {},
          "execution_count": 40
        }
      ]
    },
    {
      "cell_type": "code",
      "source": [
        "agrupado_Pruto_Total = agrupado_Pruto_Total.round(1)"
      ],
      "metadata": {
        "id": "3zzC8NEDLqvT"
      },
      "execution_count": 41,
      "outputs": []
    },
    {
      "cell_type": "code",
      "source": [
        "fig, ax = plt.subplots(figsize = (16,21))\n",
        "ax = sns.scatterplot(x = 'Linha de produto', y = 'Total', data = agrupado_Pruto_Total)\n",
        "plt.axhline(y=np.nanmean(df.Total), color ='red', linestyle='--', linewidth=3, label = 'Media')\n",
        "plt. xticks(rotation = 45)"
      ],
      "metadata": {
        "colab": {
          "base_uri": "https://localhost:8080/",
          "height": 1000
        },
        "id": "XOP9hRPKMLOd",
        "outputId": "0509006c-80f5-4e2d-d1e3-1296ba042903"
      },
      "execution_count": 42,
      "outputs": [
        {
          "output_type": "execute_result",
          "data": {
            "text/plain": [
              "([0, 1, 2, 3, 4, 5],\n",
              " [Text(0, 0, ''),\n",
              "  Text(0, 0, ''),\n",
              "  Text(0, 0, ''),\n",
              "  Text(0, 0, ''),\n",
              "  Text(0, 0, ''),\n",
              "  Text(0, 0, '')])"
            ]
          },
          "metadata": {},
          "execution_count": 42
        },
        {
          "output_type": "display_data",
          "data": {
            "text/plain": [
              "<Figure size 1152x1512 with 1 Axes>"
            ],
            "image/png": "[encoded data removed]"
          },
          "metadata": {
            "needs_background": "light"
          }
        }
      ]
    },
    {
      "cell_type": "code",
      "source": [
        "agrupando_Filial_Total = df.groupby('Filial')['Total'].mean().reset_index(drop=False)"
      ],
      "metadata": {
        "id": "72Bu7CD6MSM3"
      },
      "execution_count": 43,
      "outputs": []
    },
    {
      "cell_type": "code",
      "source": [
        "agrupando_Filial_Total = agrupando_Filial_Total.round(1)"
      ],
      "metadata": {
        "id": "HUcrKhVSRdK2"
      },
      "execution_count": 44,
      "outputs": []
    },
    {
      "cell_type": "code",
      "source": [
        "agrupando_Filial_Total"
      ],
      "metadata": {
        "colab": {
          "base_uri": "https://localhost:8080/",
          "height": 143
        },
        "id": "7JoPcRIsR69z",
        "outputId": "99373cb9-107b-4c42-b1c9-37cfa916efb0"
      },
      "execution_count": 45,
      "outputs": [
        {
          "output_type": "execute_result",
          "data": {
            "text/plain": [
              "  Filial   Total\n",
              "0      A  4110.3\n",
              "1      B  4179.1\n",
              "2      C  4237.8"
            ],
            "text/html": [
              "\n",
              "  <div id=\"df-3dbeeace-bb77-4406-8fec-7632684410e7\">\n",
              "    <div class=\"colab-df-container\">\n",
              "      <div>\n",
              "<style scoped>\n",
              "    .dataframe tbody tr th:only-of-type {\n",
              "        vertical-align: middle;\n",
              "    }\n",
              "\n",
              "    .dataframe tbody tr th {\n",
              "        vertical-align: top;\n",
              "    }\n",
              "\n",
              "    .dataframe thead th {\n",
              "        text-align: right;\n",
              "    }\n",
              "</style>\n",
              "<table border=\"1\" class=\"dataframe\">\n",
              "  <thead>\n",
              "    <tr style=\"text-align: right;\">\n",
              "      <th></th>\n",
              "      <th>Filial</th>\n",
              "      <th>Total</th>\n",
              "    </tr>\n",
              "  </thead>\n",
              "  <tbody>\n",
              "    <tr>\n",
              "      <th>0</th>\n",
              "      <td>A</td>\n",
              "      <td>4110.3</td>\n",
              "    </tr>\n",
              "    <tr>\n",
              "      <th>1</th>\n",
              "      <td>B</td>\n",
              "      <td>4179.1</td>\n",
              "    </tr>\n",
              "    <tr>\n",
              "      <th>2</th>\n",
              "      <td>C</td>\n",
              "      <td>4237.8</td>\n",
              "    </tr>\n",
              "  </tbody>\n",
              "</table>\n",
              "</div>\n",
              "      <button class=\"colab-df-convert\" onclick=\"convertToInteractive('df-3dbeeace-bb77-4406-8fec-7632684410e7')\"\n",
              "              title=\"Convert this dataframe to an interactive table.\"\n",
              "              style=\"display:none;\">\n",
              "        \n",
              "  <svg xmlns=\"http://www.w3.org/2000/svg\" height=\"24px\"viewBox=\"0 0 24 24\"\n",
              "       width=\"24px\">\n",
              "    <path d=\"M0 0h24v24H0V0z\" fill=\"none\"/>\n",
              "    <path d=\"M18.56 5.44l.94 2.06.94-2.06 2.06-.94-2.06-.94-.94-2.06-.94 2.06-2.06.94zm-11 1L8.5 8.5l.94-2.06 2.06-.94-2.06-.94L8.5 2.5l-.94 2.06-2.06.94zm10 10l.94 2.06.94-2.06 2.06-.94-2.06-.94-.94-2.06-.94 2.06-2.06.94z\"/><path d=\"M17.41 7.96l-1.37-1.37c-.4-.4-.92-.59-1.43-.59-.52 0-1.04.2-1.43.59L10.3 9.45l-7.72 7.72c-.78.78-.78 2.05 0 2.83L4 21.41c.39.39.9.59 1.41.59.51 0 1.02-.2 1.41-.59l7.78-7.78 2.81-2.81c.8-.78.8-2.07 0-2.86zM5.41 20L4 18.59l7.72-7.72 1.47 1.35L5.41 20z\"/>\n",
              "  </svg>\n",
              "      </button>\n",
              "      \n",
              "  <style>\n",
              "    .colab-df-container {\n",
              "      display:flex;\n",
              "      flex-wrap:wrap;\n",
              "      gap: 12px;\n",
              "    }\n",
              "\n",
              "    .colab-df-convert {\n",
              "      background-color: #E8F0FE;\n",
              "      border: none;\n",
              "      border-radius: 50%;\n",
              "      cursor: pointer;\n",
              "      display: none;\n",
              "      fill: #1967D2;\n",
              "      height: 32px;\n",
              "      padding: 0 0 0 0;\n",
              "      width: 32px;\n",
              "    }\n",
              "\n",
              "    .colab-df-convert:hover {\n",
              "      background-color: #E2EBFA;\n",
              "      box-shadow: 0px 1px 2px rgba(60, 64, 67, 0.3), 0px 1px 3px 1px rgba(60, 64, 67, 0.15);\n",
              "      fill: #174EA6;\n",
              "    }\n",
              "\n",
              "    [theme=dark] .colab-df-convert {\n",
              "      background-color: #3B4455;\n",
              "      fill: #D2E3FC;\n",
              "    }\n",
              "\n",
              "    [theme=dark] .colab-df-convert:hover {\n",
              "      background-color: #434B5C;\n",
              "      box-shadow: 0px 1px 3px 1px rgba(0, 0, 0, 0.15);\n",
              "      filter: drop-shadow(0px 1px 2px rgba(0, 0, 0, 0.3));\n",
              "      fill: #FFFFFF;\n",
              "    }\n",
              "  </style>\n",
              "\n",
              "      <script>\n",
              "        const buttonEl =\n",
              "          document.querySelector('#df-3dbeeace-bb77-4406-8fec-7632684410e7 button.colab-df-convert');\n",
              "        buttonEl.style.display =\n",
              "          google.colab.kernel.accessAllowed ? 'block' : 'none';\n",
              "\n",
              "        async function convertToInteractive(key) {\n",
              "          const element = document.querySelector('#df-3dbeeace-bb77-4406-8fec-7632684410e7');\n",
              "          const dataTable =\n",
              "            await google.colab.kernel.invokeFunction('convertToInteractive',\n",
              "                                                     [key], {});\n",
              "          if (!dataTable) return;\n",
              "\n",
              "          const docLinkHtml = 'Like what you see? Visit the ' +\n",
              "            '<a target=\"_blank\" href=https://colab.research.google.com/notebooks/data_table.ipynb>data table notebook</a>'\n",
              "            + ' to learn more about interactive tables.';\n",
              "          element.innerHTML = '';\n",
              "          dataTable['output_type'] = 'display_data';\n",
              "          await google.colab.output.renderOutput(dataTable, element);\n",
              "          const docLink = document.createElement('div');\n",
              "          docLink.innerHTML = docLinkHtml;\n",
              "          element.appendChild(docLink);\n",
              "        }\n",
              "      </script>\n",
              "    </div>\n",
              "  </div>\n",
              "  "
            ]
          },
          "metadata": {},
          "execution_count": 45
        }
      ]
    },
    {
      "cell_type": "code",
      "source": [
        "fig, ax = plt.subplots(figsize = (16,21))\n",
        "ax = sns.scatterplot(x = 'Filial', y = 'Total', data = agrupando_Filial_Total)\n",
        "plt.axhline(y=np.nanmean(df.Total), color ='red', linestyle='--', linewidth=3, label = 'Media')\n",
        "plt. xticks(rotation = 45)"
      ],
      "metadata": {
        "colab": {
          "base_uri": "https://localhost:8080/",
          "height": 1000
        },
        "id": "7xIypVmnSJrC",
        "outputId": "ffd51e70-b11d-496d-be9c-56c5663288aa"
      },
      "execution_count": 46,
      "outputs": [
        {
          "output_type": "execute_result",
          "data": {
            "text/plain": [
              "([0, 1, 2], [Text(0, 0, ''), Text(0, 0, ''), Text(0, 0, '')])"
            ]
          },
          "metadata": {},
          "execution_count": 46
        },
        {
          "output_type": "display_data",
          "data": {
            "text/plain": [
              "<Figure size 1152x1512 with 1 Axes>"
            ],
            "image/png": "[encoded data removed]"
          },
          "metadata": {
            "needs_background": "light"
          }
        }
      ]
    },
    {
      "cell_type": "code",
      "source": [
        "#distribuição das vendas em função da linha de produto"
      ],
      "metadata": {
        "id": "MpcuyxJOSj1w"
      },
      "execution_count": 47,
      "outputs": []
    },
    {
      "cell_type": "code",
      "source": [
        "fig. ax = plt.subplots(figsize=(16,12))\n",
        "ax = sns.boxenplot(y='Linha de produto', x = 'Quantidade', data=df)"
      ],
      "metadata": {
        "colab": {
          "base_uri": "https://localhost:8080/",
          "height": 714
        },
        "id": "r6ZfztF0TW6S",
        "outputId": "7ddce50e-db7d-4403-9e33-19074869a729"
      },
      "execution_count": 48,
      "outputs": [
        {
          "output_type": "display_data",
          "data": {
            "text/plain": [
              "<Figure size 1152x864 with 1 Axes>"
            ],
            "image/png": "[encoded data removed]"
          },
          "metadata": {
            "needs_background": "light"
          }
        }
      ]
    },
    {
      "cell_type": "code",
      "source": [
        "df.head()"
      ],
      "metadata": {
        "colab": {
          "base_uri": "https://localhost:8080/",
          "height": 250
        },
        "id": "lXZ_lGo0Tubo",
        "outputId": "bddd6aa3-c68e-4bc5-9256-1eed604bb91e"
      },
      "execution_count": 49,
      "outputs": [
        {
          "output_type": "execute_result",
          "data": {
            "text/plain": [
              "  Filial Tipo de Cliente Gênero        Linha de produto  Preço unitário  \\\n",
              "0      A       Associado      F          Saúde e beleza         1120.35   \n",
              "1      C          Normal      F  Acessórios eletrônicos          229.20   \n",
              "2      A          Normal      M   Casa e estilo de vida          694.95   \n",
              "3      A       Associado      M          Saúde e beleza          873.30   \n",
              "4      A          Normal      M      Esportes e viagens         1294.65   \n",
              "\n",
              "   Quantidade    Total       Data Horário          Pagamento       COGS  \\\n",
              "0           7  7842.45    Janeiro   Tarde                PIX  4705.4700   \n",
              "1           5  1146.00      Março   Manhã           Dinheiro  1031.4000   \n",
              "2           7  4864.65      Março   Tarde  Cartão de Crédito  3405.2550   \n",
              "3           8  6986.40    Janeiro   Noite                PIX  4191.8400   \n",
              "4           7  9062.55  Fevereiro   Manhã                PIX  6796.9125   \n",
              "\n",
              "   Avaliação  \n",
              "0         91  \n",
              "1         96  \n",
              "2         74  \n",
              "3         84  \n",
              "4         53  "
            ],
            "text/html": [
              "\n",
              "  <div id=\"df-6b6335f3-40c8-447c-ae32-f12efc754b46\">\n",
              "    <div class=\"colab-df-container\">\n",
              "      <div>\n",
              "<style scoped>\n",
              "    .dataframe tbody tr th:only-of-type {\n",
              "        vertical-align: middle;\n",
              "    }\n",
              "\n",
              "    .dataframe tbody tr th {\n",
              "        vertical-align: top;\n",
              "    }\n",
              "\n",
              "    .dataframe thead th {\n",
              "        text-align: right;\n",
              "    }\n",
              "</style>\n",
              "<table border=\"1\" class=\"dataframe\">\n",
              "  <thead>\n",
              "    <tr style=\"text-align: right;\">\n",
              "      <th></th>\n",
              "      <th>Filial</th>\n",
              "      <th>Tipo de Cliente</th>\n",
              "      <th>Gênero</th>\n",
              "      <th>Linha de produto</th>\n",
              "      <th>Preço unitário</th>\n",
              "      <th>Quantidade</th>\n",
              "      <th>Total</th>\n",
              "      <th>Data</th>\n",
              "      <th>Horário</th>\n",
              "      <th>Pagamento</th>\n",
              "      <th>COGS</th>\n",
              "      <th>Avaliação</th>\n",
              "    </tr>\n",
              "  </thead>\n",
              "  <tbody>\n",
              "    <tr>\n",
              "      <th>0</th>\n",
              "      <td>A</td>\n",
              "      <td>Associado</td>\n",
              "      <td>F</td>\n",
              "      <td>Saúde e beleza</td>\n",
              "      <td>1120.35</td>\n",
              "      <td>7</td>\n",
              "      <td>7842.45</td>\n",
              "      <td>Janeiro</td>\n",
              "      <td>Tarde</td>\n",
              "      <td>PIX</td>\n",
              "      <td>4705.4700</td>\n",
              "      <td>91</td>\n",
              "    </tr>\n",
              "    <tr>\n",
              "      <th>1</th>\n",
              "      <td>C</td>\n",
              "      <td>Normal</td>\n",
              "      <td>F</td>\n",
              "      <td>Acessórios eletrônicos</td>\n",
              "      <td>229.20</td>\n",
              "      <td>5</td>\n",
              "      <td>1146.00</td>\n",
              "      <td>Março</td>\n",
              "      <td>Manhã</td>\n",
              "      <td>Dinheiro</td>\n",
              "      <td>1031.4000</td>\n",
              "      <td>96</td>\n",
              "    </tr>\n",
              "    <tr>\n",
              "      <th>2</th>\n",
              "      <td>A</td>\n",
              "      <td>Normal</td>\n",
              "      <td>M</td>\n",
              "      <td>Casa e estilo de vida</td>\n",
              "      <td>694.95</td>\n",
              "      <td>7</td>\n",
              "      <td>4864.65</td>\n",
              "      <td>Março</td>\n",
              "      <td>Tarde</td>\n",
              "      <td>Cartão de Crédito</td>\n",
              "      <td>3405.2550</td>\n",
              "      <td>74</td>\n",
              "    </tr>\n",
              "    <tr>\n",
              "      <th>3</th>\n",
              "      <td>A</td>\n",
              "      <td>Associado</td>\n",
              "      <td>M</td>\n",
              "      <td>Saúde e beleza</td>\n",
              "      <td>873.30</td>\n",
              "      <td>8</td>\n",
              "      <td>6986.40</td>\n",
              "      <td>Janeiro</td>\n",
              "      <td>Noite</td>\n",
              "      <td>PIX</td>\n",
              "      <td>4191.8400</td>\n",
              "      <td>84</td>\n",
              "    </tr>\n",
              "    <tr>\n",
              "      <th>4</th>\n",
              "      <td>A</td>\n",
              "      <td>Normal</td>\n",
              "      <td>M</td>\n",
              "      <td>Esportes e viagens</td>\n",
              "      <td>1294.65</td>\n",
              "      <td>7</td>\n",
              "      <td>9062.55</td>\n",
              "      <td>Fevereiro</td>\n",
              "      <td>Manhã</td>\n",
              "      <td>PIX</td>\n",
              "      <td>6796.9125</td>\n",
              "      <td>53</td>\n",
              "    </tr>\n",
              "  </tbody>\n",
              "</table>\n",
              "</div>\n",
              "      <button class=\"colab-df-convert\" onclick=\"convertToInteractive('df-6b6335f3-40c8-447c-ae32-f12efc754b46')\"\n",
              "              title=\"Convert this dataframe to an interactive table.\"\n",
              "              style=\"display:none;\">\n",
              "        \n",
              "  <svg xmlns=\"http://www.w3.org/2000/svg\" height=\"24px\"viewBox=\"0 0 24 24\"\n",
              "       width=\"24px\">\n",
              "    <path d=\"M0 0h24v24H0V0z\" fill=\"none\"/>\n",
              "    <path d=\"M18.56 5.44l.94 2.06.94-2.06 2.06-.94-2.06-.94-.94-2.06-.94 2.06-2.06.94zm-11 1L8.5 8.5l.94-2.06 2.06-.94-2.06-.94L8.5 2.5l-.94 2.06-2.06.94zm10 10l.94 2.06.94-2.06 2.06-.94-2.06-.94-.94-2.06-.94 2.06-2.06.94z\"/><path d=\"M17.41 7.96l-1.37-1.37c-.4-.4-.92-.59-1.43-.59-.52 0-1.04.2-1.43.59L10.3 9.45l-7.72 7.72c-.78.78-.78 2.05 0 2.83L4 21.41c.39.39.9.59 1.41.59.51 0 1.02-.2 1.41-.59l7.78-7.78 2.81-2.81c.8-.78.8-2.07 0-2.86zM5.41 20L4 18.59l7.72-7.72 1.47 1.35L5.41 20z\"/>\n",
              "  </svg>\n",
              "      </button>\n",
              "      \n",
              "  <style>\n",
              "    .colab-df-container {\n",
              "      display:flex;\n",
              "      flex-wrap:wrap;\n",
              "      gap: 12px;\n",
              "    }\n",
              "\n",
              "    .colab-df-convert {\n",
              "      background-color: #E8F0FE;\n",
              "      border: none;\n",
              "      border-radius: 50%;\n",
              "      cursor: pointer;\n",
              "      display: none;\n",
              "      fill: #1967D2;\n",
              "      height: 32px;\n",
              "      padding: 0 0 0 0;\n",
              "      width: 32px;\n",
              "    }\n",
              "\n",
              "    .colab-df-convert:hover {\n",
              "      background-color: #E2EBFA;\n",
              "      box-shadow: 0px 1px 2px rgba(60, 64, 67, 0.3), 0px 1px 3px 1px rgba(60, 64, 67, 0.15);\n",
              "      fill: #174EA6;\n",
              "    }\n",
              "\n",
              "    [theme=dark] .colab-df-convert {\n",
              "      background-color: #3B4455;\n",
              "      fill: #D2E3FC;\n",
              "    }\n",
              "\n",
              "    [theme=dark] .colab-df-convert:hover {\n",
              "      background-color: #434B5C;\n",
              "      box-shadow: 0px 1px 3px 1px rgba(0, 0, 0, 0.15);\n",
              "      filter: drop-shadow(0px 1px 2px rgba(0, 0, 0, 0.3));\n",
              "      fill: #FFFFFF;\n",
              "    }\n",
              "  </style>\n",
              "\n",
              "      <script>\n",
              "        const buttonEl =\n",
              "          document.querySelector('#df-6b6335f3-40c8-447c-ae32-f12efc754b46 button.colab-df-convert');\n",
              "        buttonEl.style.display =\n",
              "          google.colab.kernel.accessAllowed ? 'block' : 'none';\n",
              "\n",
              "        async function convertToInteractive(key) {\n",
              "          const element = document.querySelector('#df-6b6335f3-40c8-447c-ae32-f12efc754b46');\n",
              "          const dataTable =\n",
              "            await google.colab.kernel.invokeFunction('convertToInteractive',\n",
              "                                                     [key], {});\n",
              "          if (!dataTable) return;\n",
              "\n",
              "          const docLinkHtml = 'Like what you see? Visit the ' +\n",
              "            '<a target=\"_blank\" href=https://colab.research.google.com/notebooks/data_table.ipynb>data table notebook</a>'\n",
              "            + ' to learn more about interactive tables.';\n",
              "          element.innerHTML = '';\n",
              "          dataTable['output_type'] = 'display_data';\n",
              "          await google.colab.output.renderOutput(dataTable, element);\n",
              "          const docLink = document.createElement('div');\n",
              "          docLink.innerHTML = docLinkHtml;\n",
              "          element.appendChild(docLink);\n",
              "        }\n",
              "      </script>\n",
              "    </div>\n",
              "  </div>\n",
              "  "
            ]
          },
          "metadata": {},
          "execution_count": 49
        }
      ]
    },
    {
      "cell_type": "code",
      "source": [
        "# quantidade em função dos 3 meses \n",
        "Agrupando_Data_Quantidade = df.groupby('Data')['Quantidade'].sum().reset_index(drop=False)"
      ],
      "metadata": {
        "id": "W6fGSbNEUA7Y"
      },
      "execution_count": 50,
      "outputs": []
    },
    {
      "cell_type": "code",
      "source": [
        "fig. ax = plt.subplots(figsize=(16,12))\n",
        "ax = sns.lineplot(x ='Data', y = 'Quantidade', data = Agrupando_Data_Quantidade, marker = 'o', markersize=10)"
      ],
      "metadata": {
        "colab": {
          "base_uri": "https://localhost:8080/",
          "height": 714
        },
        "id": "_IznqABGV6wh",
        "outputId": "7fc4531a-9e59-45cf-ce1d-fa9c4784b58c"
      },
      "execution_count": 51,
      "outputs": [
        {
          "output_type": "display_data",
          "data": {
            "text/plain": [
              "<Figure size 1152x864 with 1 Axes>"
            ],
            "image/png": "[encoded data removed]"
          },
          "metadata": {
            "needs_background": "light"
          }
        }
      ]
    },
    {
      "cell_type": "code",
      "source": [
        "Agrupando_Data_Quantidade"
      ],
      "metadata": {
        "colab": {
          "base_uri": "https://localhost:8080/",
          "height": 143
        },
        "id": "72mTUUUJW1Oz",
        "outputId": "0ef61afc-45c7-4d72-8d49-0196c7bae533"
      },
      "execution_count": 52,
      "outputs": [
        {
          "output_type": "execute_result",
          "data": {
            "text/plain": [
              "        Data  Quantidade\n",
              "0  Fevereiro        1654\n",
              "1    Janeiro        1965\n",
              "2      Março        1891"
            ],
            "text/html": [
              "\n",
              "  <div id=\"df-c300f1c8-66c0-4dda-97ac-4e9b3eda66a5\">\n",
              "    <div class=\"colab-df-container\">\n",
              "      <div>\n",
              "<style scoped>\n",
              "    .dataframe tbody tr th:only-of-type {\n",
              "        vertical-align: middle;\n",
              "    }\n",
              "\n",
              "    .dataframe tbody tr th {\n",
              "        vertical-align: top;\n",
              "    }\n",
              "\n",
              "    .dataframe thead th {\n",
              "        text-align: right;\n",
              "    }\n",
              "</style>\n",
              "<table border=\"1\" class=\"dataframe\">\n",
              "  <thead>\n",
              "    <tr style=\"text-align: right;\">\n",
              "      <th></th>\n",
              "      <th>Data</th>\n",
              "      <th>Quantidade</th>\n",
              "    </tr>\n",
              "  </thead>\n",
              "  <tbody>\n",
              "    <tr>\n",
              "      <th>0</th>\n",
              "      <td>Fevereiro</td>\n",
              "      <td>1654</td>\n",
              "    </tr>\n",
              "    <tr>\n",
              "      <th>1</th>\n",
              "      <td>Janeiro</td>\n",
              "      <td>1965</td>\n",
              "    </tr>\n",
              "    <tr>\n",
              "      <th>2</th>\n",
              "      <td>Março</td>\n",
              "      <td>1891</td>\n",
              "    </tr>\n",
              "  </tbody>\n",
              "</table>\n",
              "</div>\n",
              "      <button class=\"colab-df-convert\" onclick=\"convertToInteractive('df-c300f1c8-66c0-4dda-97ac-4e9b3eda66a5')\"\n",
              "              title=\"Convert this dataframe to an interactive table.\"\n",
              "              style=\"display:none;\">\n",
              "        \n",
              "  <svg xmlns=\"http://www.w3.org/2000/svg\" height=\"24px\"viewBox=\"0 0 24 24\"\n",
              "       width=\"24px\">\n",
              "    <path d=\"M0 0h24v24H0V0z\" fill=\"none\"/>\n",
              "    <path d=\"M18.56 5.44l.94 2.06.94-2.06 2.06-.94-2.06-.94-.94-2.06-.94 2.06-2.06.94zm-11 1L8.5 8.5l.94-2.06 2.06-.94-2.06-.94L8.5 2.5l-.94 2.06-2.06.94zm10 10l.94 2.06.94-2.06 2.06-.94-2.06-.94-.94-2.06-.94 2.06-2.06.94z\"/><path d=\"M17.41 7.96l-1.37-1.37c-.4-.4-.92-.59-1.43-.59-.52 0-1.04.2-1.43.59L10.3 9.45l-7.72 7.72c-.78.78-.78 2.05 0 2.83L4 21.41c.39.39.9.59 1.41.59.51 0 1.02-.2 1.41-.59l7.78-7.78 2.81-2.81c.8-.78.8-2.07 0-2.86zM5.41 20L4 18.59l7.72-7.72 1.47 1.35L5.41 20z\"/>\n",
              "  </svg>\n",
              "      </button>\n",
              "      \n",
              "  <style>\n",
              "    .colab-df-container {\n",
              "      display:flex;\n",
              "      flex-wrap:wrap;\n",
              "      gap: 12px;\n",
              "    }\n",
              "\n",
              "    .colab-df-convert {\n",
              "      background-color: #E8F0FE;\n",
              "      border: none;\n",
              "      border-radius: 50%;\n",
              "      cursor: pointer;\n",
              "      display: none;\n",
              "      fill: #1967D2;\n",
              "      height: 32px;\n",
              "      padding: 0 0 0 0;\n",
              "      width: 32px;\n",
              "    }\n",
              "\n",
              "    .colab-df-convert:hover {\n",
              "      background-color: #E2EBFA;\n",
              "      box-shadow: 0px 1px 2px rgba(60, 64, 67, 0.3), 0px 1px 3px 1px rgba(60, 64, 67, 0.15);\n",
              "      fill: #174EA6;\n",
              "    }\n",
              "\n",
              "    [theme=dark] .colab-df-convert {\n",
              "      background-color: #3B4455;\n",
              "      fill: #D2E3FC;\n",
              "    }\n",
              "\n",
              "    [theme=dark] .colab-df-convert:hover {\n",
              "      background-color: #434B5C;\n",
              "      box-shadow: 0px 1px 3px 1px rgba(0, 0, 0, 0.15);\n",
              "      filter: drop-shadow(0px 1px 2px rgba(0, 0, 0, 0.3));\n",
              "      fill: #FFFFFF;\n",
              "    }\n",
              "  </style>\n",
              "\n",
              "      <script>\n",
              "        const buttonEl =\n",
              "          document.querySelector('#df-c300f1c8-66c0-4dda-97ac-4e9b3eda66a5 button.colab-df-convert');\n",
              "        buttonEl.style.display =\n",
              "          google.colab.kernel.accessAllowed ? 'block' : 'none';\n",
              "\n",
              "        async function convertToInteractive(key) {\n",
              "          const element = document.querySelector('#df-c300f1c8-66c0-4dda-97ac-4e9b3eda66a5');\n",
              "          const dataTable =\n",
              "            await google.colab.kernel.invokeFunction('convertToInteractive',\n",
              "                                                     [key], {});\n",
              "          if (!dataTable) return;\n",
              "\n",
              "          const docLinkHtml = 'Like what you see? Visit the ' +\n",
              "            '<a target=\"_blank\" href=https://colab.research.google.com/notebooks/data_table.ipynb>data table notebook</a>'\n",
              "            + ' to learn more about interactive tables.';\n",
              "          element.innerHTML = '';\n",
              "          dataTable['output_type'] = 'display_data';\n",
              "          await google.colab.output.renderOutput(dataTable, element);\n",
              "          const docLink = document.createElement('div');\n",
              "          docLink.innerHTML = docLinkHtml;\n",
              "          element.appendChild(docLink);\n",
              "        }\n",
              "      </script>\n",
              "    </div>\n",
              "  </div>\n",
              "  "
            ]
          },
          "metadata": {},
          "execution_count": 52
        }
      ]
    },
    {
      "cell_type": "code",
      "source": [
        "new_index = [1,0,2]"
      ],
      "metadata": {
        "id": "Wmz0KkR2YHk-"
      },
      "execution_count": 53,
      "outputs": []
    },
    {
      "cell_type": "code",
      "source": [
        "Agrupando_Data_Quantidade = Agrupando_Data_Quantidade.reindex(new_index)"
      ],
      "metadata": {
        "id": "c1KPDXQ0YUYj"
      },
      "execution_count": 54,
      "outputs": []
    },
    {
      "cell_type": "code",
      "source": [
        "#proporção dos tipos de cliente (normal, associado)"
      ],
      "metadata": {
        "id": "LfVaQmxOYbL1"
      },
      "execution_count": 55,
      "outputs": []
    },
    {
      "cell_type": "code",
      "source": [
        "plt.style.use('classic')\n",
        "plt.style.use('bmh')\n",
        "df.groupby('Tipo de Cliente').count()['Total'].plot(kind = 'pie', autopct = '%.lf', figsize=(16,12), subplots = True, wedgeprops = dict(width=0.20))"
      ],
      "metadata": {
        "colab": {
          "base_uri": "https://localhost:8080/",
          "height": 818
        },
        "id": "1tcdl4l0guTn",
        "outputId": "3d3ed1c4-d202-4af6-b4aa-486d8aa68e22"
      },
      "execution_count": 56,
      "outputs": [
        {
          "output_type": "execute_result",
          "data": {
            "text/plain": [
              "array([<AxesSubplot:ylabel='Total'>], dtype=object)"
            ]
          },
          "metadata": {},
          "execution_count": 56
        },
        {
          "output_type": "display_data",
          "data": {
            "text/plain": [
              "<Figure size 1280x960 with 1 Axes>"
            ],
            "image/png": "[encoded data removed]"
          },
          "metadata": {}
        }
      ]
    },
    {
      "cell_type": "code",
      "source": [
        "plt.style.use('classic')\n",
        "plt.style.use('bmh')\n",
        "df.groupby('Gênero').count()['Total'].plot(kind = 'pie', autopct = '%.lf', figsize=(16,12), subplots = True, wedgeprops = dict(width=0.20))"
      ],
      "metadata": {
        "colab": {
          "base_uri": "https://localhost:8080/",
          "height": 818
        },
        "id": "AnJUUs96hy97",
        "outputId": "5999d7f8-20cd-4c9d-fb27-21ac5b224768"
      },
      "execution_count": 57,
      "outputs": [
        {
          "output_type": "execute_result",
          "data": {
            "text/plain": [
              "array([<AxesSubplot:ylabel='Total'>], dtype=object)"
            ]
          },
          "metadata": {},
          "execution_count": 57
        },
        {
          "output_type": "display_data",
          "data": {
            "text/plain": [
              "<Figure size 1280x960 with 1 Axes>"
            ],
            "image/png": "[encoded data removed]"
          },
          "metadata": {}
        }
      ]
    },
    {
      "cell_type": "code",
      "source": [
        "plt.style.use('classic')\n",
        "plt.style.use('bmh')\n",
        "df.groupby('Pagamento').count()['Total'].plot(kind = 'pie', autopct = '%.lf', figsize=(16,12), subplots = True, wedgeprops = dict(width=0.20))"
      ],
      "metadata": {
        "colab": {
          "base_uri": "https://localhost:8080/",
          "height": 818
        },
        "id": "iXJ4v-cElOaD",
        "outputId": "dd25adbc-5e18-4f60-b3df-0c80fa923053"
      },
      "execution_count": 58,
      "outputs": [
        {
          "output_type": "execute_result",
          "data": {
            "text/plain": [
              "array([<AxesSubplot:ylabel='Total'>], dtype=object)"
            ]
          },
          "metadata": {},
          "execution_count": 58
        },
        {
          "output_type": "display_data",
          "data": {
            "text/plain": [
              "<Figure size 1280x960 with 1 Axes>"
            ],
            "image/png": "[encoded data removed]"
          },
          "metadata": {}
        }
      ]
    },
    {
      "cell_type": "code",
      "source": [
        "new_Index_Horário = [0,2,1]\n",
        "agrupando_Horario_total = agrupando_Horario_total.reindex(new_Index_Horário)"
      ],
      "metadata": {
        "id": "ekeg6bb7ot1E",
        "colab": {
          "base_uri": "https://localhost:8080/",
          "height": 183
        },
        "outputId": "9c42daef-d0a3-4e09-94e8-e036f1a33ad8"
      },
      "execution_count": 60,
      "outputs": [
        {
          "output_type": "error",
          "ename": "AttributeError",
          "evalue": "ignored",
          "traceback": [
            "\u001b[0;31m---------------------------------------------------------------------------\u001b[0m",
            "\u001b[0;31mAttributeError\u001b[0m                            Traceback (most recent call last)",
            "\u001b[0;32m<ipython-input-60-23922be2c74d>\u001b[0m in \u001b[0;36m<module>\u001b[0;34m\u001b[0m\n\u001b[1;32m      1\u001b[0m \u001b[0mnew_Index_Horário\u001b[0m \u001b[0;34m=\u001b[0m \u001b[0;34m[\u001b[0m\u001b[0;36m0\u001b[0m\u001b[0;34m,\u001b[0m\u001b[0;36m2\u001b[0m\u001b[0;34m,\u001b[0m\u001b[0;36m1\u001b[0m\u001b[0;34m]\u001b[0m\u001b[0;34m\u001b[0m\u001b[0;34m\u001b[0m\u001b[0m\n\u001b[0;32m----> 2\u001b[0;31m \u001b[0magrupando_Horario_total\u001b[0m \u001b[0;34m=\u001b[0m \u001b[0mnew_Index_Horário\u001b[0m\u001b[0;34m.\u001b[0m\u001b[0mreindex\u001b[0m\u001b[0;34m(\u001b[0m\u001b[0mnew_Index_Horário\u001b[0m\u001b[0;34m)\u001b[0m\u001b[0;34m\u001b[0m\u001b[0;34m\u001b[0m\u001b[0m\n\u001b[0m",
            "\u001b[0;31mAttributeError\u001b[0m: 'list' object has no attribute 'reindex'"
          ]
        }
      ]
    },
    {
      "cell_type": "code",
      "source": [
        "agrupando_Horario_total = df.groupby('Horário')['Total'].mean().reset_index(drop=False)"
      ],
      "metadata": {
        "id": "AJPOC07PqhU6"
      },
      "execution_count": null,
      "outputs": []
    },
    {
      "cell_type": "code",
      "source": [
        "df['Lucro'] = df['Total'] - df['COGS']"
      ],
      "metadata": {
        "id": "T9q--BZSrErb"
      },
      "execution_count": null,
      "outputs": []
    },
    {
      "cell_type": "code",
      "source": [],
      "metadata": {
        "id": "8TA1eJvbpRCd"
      },
      "execution_count": null,
      "outputs": []
    }
  ]
}